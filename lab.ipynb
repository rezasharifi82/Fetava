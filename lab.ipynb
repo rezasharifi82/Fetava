{
 "cells": [
  {
   "cell_type": "code",
   "execution_count": 4,
   "metadata": {},
   "outputs": [],
   "source": [
    "def get_ip()-> list:\n",
    "    import os\n",
    "    p=(os.popen(\"arp\").read())\n",
    "    return(p)\n",
    "\n",
    "bb=get_ip()"
   ]
  },
  {
   "cell_type": "code",
   "execution_count": 48,
   "metadata": {},
   "outputs": [],
   "source": [
    "import tkinter as tk\n",
    "\n",
    "root = tk.Tk()\n",
    "\n",
    "# Create a list of options\n",
    "options = [\"Option 1\", \"Option 2\", \"Option 3\", \"Option 4\"]\n",
    "\n",
    "# Create a listbox\n",
    "listbox = tk.Listbox(root, width=15, height=10, xscrollcommand=True, yscrollcommand=True)\n",
    "for option in options:\n",
    "    listbox.insert(tk.END, option)\n",
    "\n",
    "# Create a horizontal scrollbar\n",
    "scrollbar = tk.Scrollbar(root, orient='horizontal', command=listbox.xview)\n",
    "scrollbar.pack(side=BOTTOM, fill=BOTH)\n",
    "\n",
    "# Create a vertical scrollbar\n",
    "scrollbar_y = tk.Scrollbar(root, orient='vertical', command=listbox.yview)\n",
    "scrollbar_y.pack(side=RIGHT, fill=BOTH)\n",
    "\n",
    "# Configure the listbox to use the scrollbars\n",
    "listbox.configure(xscrollcommand=scrollbar.set, yscrollcommand=scrollbar_y.set)\n",
    "\n",
    "# Pack the listbox\n",
    "listbox.pack()\n",
    "\n",
    "root.mainloop()\n"
   ]
  },
  {
   "cell_type": "code",
   "execution_count": 7,
   "metadata": {},
   "outputs": [
    {
     "name": "stdout",
     "output_type": "stream",
     "text": [
      "[5, 0, 1, 2, 3, 4, 5, 6, 7, 8, 0, 1, 2, 3, 4, 5, 6, 7, 8, 9, 10, 11, 12, 13, 14, 15, 16, 17, 18, 19, 20, 21, 22, 23, 24, 25, 26, 27, 28, 29, 30, 31, 32, 33, 34, 0, 1, 2, 3, 4, 5, 6, 7]\n"
     ]
    }
   ],
   "source": [
    "print(temp.temp.a)"
   ]
  },
  {
   "cell_type": "code",
   "execution_count": 9,
   "metadata": {},
   "outputs": [],
   "source": []
  },
  {
   "cell_type": "code",
   "execution_count": 1,
   "metadata": {},
   "outputs": [
    {
     "ename": "NameError",
     "evalue": "name 'open_file' is not defined",
     "output_type": "error",
     "traceback": [
      "\u001b[0;31m---------------------------------------------------------------------------\u001b[0m",
      "\u001b[0;31mNameError\u001b[0m                                 Traceback (most recent call last)",
      "Cell \u001b[0;32mIn[1], line 7\u001b[0m\n\u001b[1;32m      4\u001b[0m root \u001b[38;5;241m=\u001b[39m tk\u001b[38;5;241m.\u001b[39mTk()\n\u001b[1;32m      6\u001b[0m \u001b[38;5;66;03m# Create a button to open a file\u001b[39;00m\n\u001b[0;32m----> 7\u001b[0m button \u001b[38;5;241m=\u001b[39m tk\u001b[38;5;241m.\u001b[39mButton(root, text\u001b[38;5;241m=\u001b[39m\u001b[38;5;124m\"\u001b[39m\u001b[38;5;124mOpen File\u001b[39m\u001b[38;5;124m\"\u001b[39m, command\u001b[38;5;241m=\u001b[39m\u001b[43mopen_file\u001b[49m)\n\u001b[1;32m      8\u001b[0m button\u001b[38;5;241m.\u001b[39mpack()\n\u001b[1;32m     10\u001b[0m \u001b[38;5;28;01mdef\u001b[39;00m \u001b[38;5;21mopen_file\u001b[39m():\n\u001b[1;32m     11\u001b[0m     \u001b[38;5;66;03m# Open a file dialog\u001b[39;00m\n",
      "\u001b[0;31mNameError\u001b[0m: name 'open_file' is not defined"
     ]
    }
   ],
   "source": [
    "import tkinter as tk\n",
    "from tkinter import filedialog\n",
    "\n",
    "root = tk.Tk()\n",
    "\n",
    "# Create a button to open a file\n",
    "button = tk.Button(root, text=\"Open File\", command=open_file)\n",
    "button.pack()\n",
    "\n",
    "def open_file():\n",
    "    # Open a file dialog\n",
    "    filename = filedialog.askopenfilename(title=\"Open File\", filetypes=[(\"Text files\", \"*.txt\")])\n",
    "\n",
    "    # If a file was selected, read the file and display its contents\n",
    "    if filename:\n",
    "        with open(filename, \"r\") as f:\n",
    "            file_contents = f.read()\n",
    "            label.config(text=file_contents)\n",
    "\n",
    "# Create a label to display the file contents\n",
    "label = tk.Label(root)\n",
    "label.pack()\n",
    "\n",
    "root.mainloop()\n"
   ]
  },
  {
   "cell_type": "code",
   "execution_count": 12,
   "metadata": {},
   "outputs": [
    {
     "ename": "NameError",
     "evalue": "name 'g' is not defined",
     "output_type": "error",
     "traceback": [
      "\u001b[0;31m---------------------------------------------------------------------------\u001b[0m",
      "\u001b[0;31mNameError\u001b[0m                                 Traceback (most recent call last)",
      "Cell \u001b[0;32mIn[12], line 1\u001b[0m\n\u001b[0;32m----> 1\u001b[0m \u001b[43mg\u001b[49m\n",
      "\u001b[0;31mNameError\u001b[0m: name 'g' is not defined"
     ]
    },
    {
     "name": "stdout",
     "output_type": "stream",
     "text": [
      "hello it's memessage sent! -> @Fetava,#Ser,192.168.43.179,Lotuva\n",
      "\n",
      "@Fetava,#Ser,192.168.43.179,Lotuva\n",
      "hello it's memessage sent! -> @Fetava,#Ser,192.168.43.179,Lotuva\n",
      "\n",
      "@Fetava,#Ser,192.168.43.179,Lotuva\n"
     ]
    }
   ],
   "source": [
    "g"
   ]
  },
  {
   "cell_type": "code",
   "execution_count": 5,
   "metadata": {},
   "outputs": [],
   "source": [
    "import tkinter as tk\n",
    "from tkinter import ttk\n",
    "\n",
    "root = tk.Tk()\n",
    "\n",
    "# Create a treeview widget\n",
    "treeview = ttk.Treeview(root)\n",
    "treeview.pack()\n",
    "\n",
    "# Create columns for the table\n",
    "treeview['columns'] = ['Name', 'Age', 'Occupation']\n",
    "treeview.column('#0', width=30, minwidth=30)\n",
    "treeview.column('Name', width=100, minwidth=100)\n",
    "treeview.column('Age', width=50, minwidth=50)\n",
    "treeview.column('Occupation', width=150, minwidth=150)\n",
    "\n",
    "# Configure column headings\n",
    "treeview.heading('#0', text='ID', anchor='w')\n",
    "treeview.heading('Name', text='Name', anchor='w')\n",
    "treeview.heading('Age', text='Age', anchor='w')\n",
    "treeview.heading('Occupation', text='Occupation', anchor='w')\n",
    "\n",
    "# Add rows to the table\n",
    "data = [('John Doe', 30, 'Software Engineer'),\n",
    "        ('Jane Doe', 25, 'Teacher'),\n",
    "        ('Peter Jones', 40, 'Doctor')]\n",
    "\n",
    "for i, row in enumerate(data):\n",
    "    treeview.insert('', i, values=row)\n",
    "\n",
    "root.mainloop()\n"
   ]
  },
  {
   "cell_type": "code",
   "execution_count": 1,
   "metadata": {},
   "outputs": [
    {
     "name": "stdout",
     "output_type": "stream",
     "text": [
      "Here @ ls sender []\n",
      "sender:   23\n"
     ]
    },
    {
     "name": "stdout",
     "output_type": "stream",
     "text": [
      "444\n",
      "11111\n",
      "In check (b'\\x80\\x04\\x95?\\x03\\x00\\x00\\x00\\x00\\x00\\x00]\\x94((\\x8c\\x03dir\\x94\\x8c\\r./__pycache__\\x94M\\xa0\\x01\\x8c\\x0b__pycache__\\x94t\\x94(\\x8c\\x04file\\x94\\x8c\\x0b./lab.ipynb\\x94J\\x08$\\x01\\x00\\x8c\\tlab.ipynb\\x94t\\x94(h\\x05\\x8c\\x08./GUI.py\\x94MT-\\x8c\\x06GUI.py\\x94t\\x94(h\\x05\\x8c\\x06./echo\\x94K\\x07\\x8c\\x04echo\\x94t\\x94(h\\x05\\x8c\\x0b./script.py\\x94K\\xf5\\x8c\\tscript.py\\x94t\\x94(h\\x05\\x8c\\n./check.py\\x94M\\x84\\x06\\x8c\\x08check.py\\x94t\\x94(h\\x05\\x8c\\x0b./client.py\\x94M!\\x02\\x8c\\tclient.py\\x94t\\x94(h\\x05\\x8c\\x11./final_client.py\\x94M\\x13\\t\\x8c\\x0ffinal_client.py\\x94t\\x94(h\\x05\\x8c\\t./1.ipynb\\x94M)=\\x8c\\x071.ipynb\\x94t\\x94(h\\x05\\x8c\\x0f./ftp_server.py\\x94M\\xcd\\x0f\\x8c\\rftp_server.py\\x94t\\x94(h\\x05\\x8c\\x0f./ftp_client.py\\x94M\\xe5\\x0f\\x8c\\rftp_client.py\\x94t\\x94(h\\x05\\x8c\\x0b./useful.py\\x94M8\\n\\x8c\\tuseful.py\\x94t\\x94(h\\x05\\x8c\\x08./app.py\\x94M\\x00\\x07\\x8c\\x06app.py\\x94t\\x94(h\\x05\\x8c\\x0b./check.txt\\x94Mu\\x01\\x8c\\tcheck.txt\\x94t\\x94(h\\x05\\x8c\\n./nasa.png\\x94Jr\\xb5\\x02\\x00\\x8c\\x08nasa.png\\x94t\\x94(h\\x05\\x8c\\t./ftp.png\\x94M\\xd64\\x8c\\x07ftp.png\\x94t\\x94(h\\x05\\x8c\\x0b./server.py\\x94M\\x15\\x03\\x8c\\tserver.py\\x94t\\x94(h\\x05\\x8c\\t./temp.py\\x94K$\\x8c\\x07temp.py\\x94t\\x94(h\\x01\\x8c\\x05./oop\\x94K\\x0c\\x8c\\x03oop\\x94t\\x94(h\\x05\\x8c\\x0e./computer.png\\x94M\\xba\\x01\\x8c\\x0ccomputer.png\\x94t\\x94(h\\x05\\x8c\\x07./1.otf\\x94J\\x84(\\x01\\x00\\x8c\\x051.otf\\x94t\\x94(h\\x05\\x8c\\x11./final_server.py\\x94M\\x83\\n\\x8c\\x0ffinal_server.py\\x94t\\x94(h\\x05\\x8c\\x03./t\\x94K\\x00\\x8c\\x01t\\x94t\\x94(h\\x05\\x8c\\x03./v\\x94K\\x00\\x8c\\x01v\\x94t\\x94(h\\x05\\x8c\\x03./m\\x94K\\x00\\x8c\\x01m\\x94t\\x94(h\\x05\\x8c\\x06./i.py\\x94MQ\\x06\\x8c\\x04i.py\\x94t\\x94e.', [], 0, ('192.168.43.179', 50848))\n",
      "11111\n",
      "In check (b'\\x80\\x04\\x95?\\x03\\x00\\x00\\x00\\x00\\x00\\x00]\\x94((\\x8c\\x03dir\\x94\\x8c\\r./__pycache__\\x94M\\xa0\\x01\\x8c\\x0b__pycache__\\x94t\\x94(\\x8c\\x04file\\x94\\x8c\\x0b./lab.ipynb\\x94J\\x08$\\x01\\x00\\x8c\\tlab.ipynb\\x94t\\x94(h\\x05\\x8c\\x08./GUI.py\\x94MT-\\x8c\\x06GUI.py\\x94t\\x94(h\\x05\\x8c\\x06./echo\\x94K\\x07\\x8c\\x04echo\\x94t\\x94(h\\x05\\x8c\\x0b./script.py\\x94K\\xf5\\x8c\\tscript.py\\x94t\\x94(h\\x05\\x8c\\n./check.py\\x94M\\x84\\x06\\x8c\\x08check.py\\x94t\\x94(h\\x05\\x8c\\x0b./client.py\\x94M!\\x02\\x8c\\tclient.py\\x94t\\x94(h\\x05\\x8c\\x11./final_client.py\\x94M\\x13\\t\\x8c\\x0ffinal_client.py\\x94t\\x94(h\\x05\\x8c\\t./1.ipynb\\x94M)=\\x8c\\x071.ipynb\\x94t\\x94(h\\x05\\x8c\\x0f./ftp_server.py\\x94M\\xcd\\x0f\\x8c\\rftp_server.py\\x94t\\x94(h\\x05\\x8c\\x0f./ftp_client.py\\x94M\\xe5\\x0f\\x8c\\rftp_client.py\\x94t\\x94(h\\x05\\x8c\\x0b./useful.py\\x94M8\\n\\x8c\\tuseful.py\\x94t\\x94(h\\x05\\x8c\\x08./app.py\\x94M\\x00\\x07\\x8c\\x06app.py\\x94t\\x94(h\\x05\\x8c\\x0b./check.txt\\x94Mu\\x01\\x8c\\tcheck.txt\\x94t\\x94(h\\x05\\x8c\\n./nasa.png\\x94Jr\\xb5\\x02\\x00\\x8c\\x08nasa.png\\x94t\\x94(h\\x05\\x8c\\t./ftp.png\\x94M\\xd64\\x8c\\x07ftp.png\\x94t\\x94(h\\x05\\x8c\\x0b./server.py\\x94M\\x15\\x03\\x8c\\tserver.py\\x94t\\x94(h\\x05\\x8c\\t./temp.py\\x94K$\\x8c\\x07temp.py\\x94t\\x94(h\\x01\\x8c\\x05./oop\\x94K\\x0c\\x8c\\x03oop\\x94t\\x94(h\\x05\\x8c\\x0e./computer.png\\x94M\\xba\\x01\\x8c\\x0ccomputer.png\\x94t\\x94(h\\x05\\x8c\\x07./1.otf\\x94J\\x84(\\x01\\x00\\x8c\\x051.otf\\x94t\\x94(h\\x05\\x8c\\x11./final_server.py\\x94M\\x83\\n\\x8c\\x0ffinal_server.py\\x94t\\x94(h\\x05\\x8c\\x03./t\\x94K\\x00\\x8c\\x01t\\x94t\\x94(h\\x05\\x8c\\x03./v\\x94K\\x00\\x8c\\x01v\\x94t\\x94(h\\x05\\x8c\\x03./m\\x94K\\x00\\x8c\\x01m\\x94t\\x94(h\\x05\\x8c\\x06./i.py\\x94MQ\\x06\\x8c\\x04i.py\\x94t\\x94e.', [], 0, ('192.168.43.179', 50848))\n",
      "sender:   23\n",
      "11111\n",
      "In check (b'\\x80\\x04\\x95?\\x03\\x00\\x00\\x00\\x00\\x00\\x00]\\x94((\\x8c\\x03dir\\x94\\x8c\\r./__pycache__\\x94M\\xa0\\x01\\x8c\\x0b__pycache__\\x94t\\x94(\\x8c\\x04file\\x94\\x8c\\x0b./lab.ipynb\\x94J\\x08$\\x01\\x00\\x8c\\tlab.ipynb\\x94t\\x94(h\\x05\\x8c\\x08./GUI.py\\x94MT-\\x8c\\x06GUI.py\\x94t\\x94(h\\x05\\x8c\\x06./echo\\x94K\\x07\\x8c\\x04echo\\x94t\\x94(h\\x05\\x8c\\x0b./script.py\\x94K\\xf5\\x8c\\tscript.py\\x94t\\x94(h\\x05\\x8c\\n./check.py\\x94M\\x84\\x06\\x8c\\x08check.py\\x94t\\x94(h\\x05\\x8c\\x0b./client.py\\x94M!\\x02\\x8c\\tclient.py\\x94t\\x94(h\\x05\\x8c\\x11./final_client.py\\x94M\\x13\\t\\x8c\\x0ffinal_client.py\\x94t\\x94(h\\x05\\x8c\\t./1.ipynb\\x94M)=\\x8c\\x071.ipynb\\x94t\\x94(h\\x05\\x8c\\x0f./ftp_server.py\\x94M\\xcd\\x0f\\x8c\\rftp_server.py\\x94t\\x94(h\\x05\\x8c\\x0f./ftp_client.py\\x94M\\xe5\\x0f\\x8c\\rftp_client.py\\x94t\\x94(h\\x05\\x8c\\x0b./useful.py\\x94M8\\n\\x8c\\tuseful.py\\x94t\\x94(h\\x05\\x8c\\x08./app.py\\x94M\\x00\\x07\\x8c\\x06app.py\\x94t\\x94(h\\x05\\x8c\\x0b./check.txt\\x94Mu\\x01\\x8c\\tcheck.txt\\x94t\\x94(h\\x05\\x8c\\n./nasa.png\\x94Jr\\xb5\\x02\\x00\\x8c\\x08nasa.png\\x94t\\x94(h\\x05\\x8c\\t./ftp.png\\x94M\\xd64\\x8c\\x07ftp.png\\x94t\\x94(h\\x05\\x8c\\x0b./server.py\\x94M\\x15\\x03\\x8c\\tserver.py\\x94t\\x94(h\\x05\\x8c\\t./temp.py\\x94K$\\x8c\\x07temp.py\\x94t\\x94(h\\x01\\x8c\\x05./oop\\x94K\\x0c\\x8c\\x03oop\\x94t\\x94(h\\x05\\x8c\\x0e./computer.png\\x94M\\xba\\x01\\x8c\\x0ccomputer.png\\x94t\\x94(h\\x05\\x8c\\x07./1.otf\\x94J\\x84(\\x01\\x00\\x8c\\x051.otf\\x94t\\x94(h\\x05\\x8c\\x11./final_server.py\\x94M\\x83\\n\\x8c\\x0ffinal_server.py\\x94t\\x94(h\\x05\\x8c\\x03./t\\x94K\\x00\\x8c\\x01t\\x94t\\x94(h\\x05\\x8c\\x03./v\\x94K\\x00\\x8c\\x01v\\x94t\\x94(h\\x05\\x8c\\x03./m\\x94K\\x00\\x8c\\x01m\\x94t\\x94(h\\x05\\x8c\\x06./i.py\\x94MQ\\x06\\x8c\\x04i.py\\x94t\\x94e.', [], 0, ('192.168.43.179', 50848))\n",
      "11111\n",
      "In check (b'\\x80\\x04\\x95?\\x03\\x00\\x00\\x00\\x00\\x00\\x00]\\x94((\\x8c\\x03dir\\x94\\x8c\\r./__pycache__\\x94M\\xa0\\x01\\x8c\\x0b__pycache__\\x94t\\x94(\\x8c\\x04file\\x94\\x8c\\x0b./lab.ipynb\\x94J\\x08$\\x01\\x00\\x8c\\tlab.ipynb\\x94t\\x94(h\\x05\\x8c\\x08./GUI.py\\x94MT-\\x8c\\x06GUI.py\\x94t\\x94(h\\x05\\x8c\\x06./echo\\x94K\\x07\\x8c\\x04echo\\x94t\\x94(h\\x05\\x8c\\x0b./script.py\\x94K\\xf5\\x8c\\tscript.py\\x94t\\x94(h\\x05\\x8c\\n./check.py\\x94M\\x84\\x06\\x8c\\x08check.py\\x94t\\x94(h\\x05\\x8c\\x0b./client.py\\x94M!\\x02\\x8c\\tclient.py\\x94t\\x94(h\\x05\\x8c\\x11./final_client.py\\x94M\\x13\\t\\x8c\\x0ffinal_client.py\\x94t\\x94(h\\x05\\x8c\\t./1.ipynb\\x94M)=\\x8c\\x071.ipynb\\x94t\\x94(h\\x05\\x8c\\x0f./ftp_server.py\\x94M\\xcd\\x0f\\x8c\\rftp_server.py\\x94t\\x94(h\\x05\\x8c\\x0f./ftp_client.py\\x94M\\xe5\\x0f\\x8c\\rftp_client.py\\x94t\\x94(h\\x05\\x8c\\x0b./useful.py\\x94M8\\n\\x8c\\tuseful.py\\x94t\\x94(h\\x05\\x8c\\x08./app.py\\x94M\\x00\\x07\\x8c\\x06app.py\\x94t\\x94(h\\x05\\x8c\\x0b./check.txt\\x94Mu\\x01\\x8c\\tcheck.txt\\x94t\\x94(h\\x05\\x8c\\n./nasa.png\\x94Jr\\xb5\\x02\\x00\\x8c\\x08nasa.png\\x94t\\x94(h\\x05\\x8c\\t./ftp.png\\x94M\\xd64\\x8c\\x07ftp.png\\x94t\\x94(h\\x05\\x8c\\x0b./server.py\\x94M\\x15\\x03\\x8c\\tserver.py\\x94t\\x94(h\\x05\\x8c\\t./temp.py\\x94K$\\x8c\\x07temp.py\\x94t\\x94(h\\x01\\x8c\\x05./oop\\x94K\\x0c\\x8c\\x03oop\\x94t\\x94(h\\x05\\x8c\\x0e./computer.png\\x94M\\xba\\x01\\x8c\\x0ccomputer.png\\x94t\\x94(h\\x05\\x8c\\x07./1.otf\\x94J\\x84(\\x01\\x00\\x8c\\x051.otf\\x94t\\x94(h\\x05\\x8c\\x11./final_server.py\\x94M\\x83\\n\\x8c\\x0ffinal_server.py\\x94t\\x94(h\\x05\\x8c\\x03./t\\x94K\\x00\\x8c\\x01t\\x94t\\x94(h\\x05\\x8c\\x03./v\\x94K\\x00\\x8c\\x01v\\x94t\\x94(h\\x05\\x8c\\x03./m\\x94K\\x00\\x8c\\x01m\\x94t\\x94(h\\x05\\x8c\\x06./i.py\\x94MQ\\x06\\x8c\\x04i.py\\x94t\\x94e.', [], 0, ('192.168.43.179', 50848))\n"
     ]
    }
   ],
   "source": [
    "import i,threading\n",
    "\n",
    "d=i.p()"
   ]
  },
  {
   "cell_type": "code",
   "execution_count": 4,
   "metadata": {},
   "outputs": [
    {
     "data": {
      "text/plain": [
       "23"
      ]
     },
     "execution_count": 4,
     "metadata": {},
     "output_type": "execute_result"
    },
    {
     "name": "stdout",
     "output_type": "stream",
     "text": [
      "11111\n",
      "In check (b'\\x80\\x04\\x95\\x0c\\x03\\x00\\x00\\x00\\x00\\x00\\x00]\\x94((\\x8c\\x03dir\\x94\\x8c\\r./__pycache__\\x94M\\xa0\\x01\\x8c\\x0b__pycache__\\x94t\\x94(\\x8c\\x04file\\x94\\x8c\\x0b./lab.ipynb\\x94J\\x08$\\x01\\x00\\x8c\\tlab.ipynb\\x94t\\x94(h\\x05\\x8c\\x08./GUI.py\\x94MT-\\x8c\\x06GUI.py\\x94t\\x94(h\\x05\\x8c\\x06./echo\\x94K\\x07\\x8c\\x04echo\\x94t\\x94(h\\x05\\x8c\\x0b./script.py\\x94K\\xf5\\x8c\\tscript.py\\x94t\\x94(h\\x05\\x8c\\n./check.py\\x94M\\x84\\x06\\x8c\\x08check.py\\x94t\\x94(h\\x05\\x8c\\x0b./client.py\\x94M!\\x02\\x8c\\tclient.py\\x94t\\x94(h\\x05\\x8c\\x11./final_client.py\\x94M\\x13\\t\\x8c\\x0ffinal_client.py\\x94t\\x94(h\\x05\\x8c\\t./1.ipynb\\x94M)=\\x8c\\x071.ipynb\\x94t\\x94(h\\x05\\x8c\\x0f./ftp_server.py\\x94M\\xcd\\x0f\\x8c\\rftp_server.py\\x94t\\x94(h\\x05\\x8c\\x0f./ftp_client.py\\x94M\\xe5\\x0f\\x8c\\rftp_client.py\\x94t\\x94(h\\x05\\x8c\\x0b./useful.py\\x94M8\\n\\x8c\\tuseful.py\\x94t\\x94(h\\x05\\x8c\\x08./app.py\\x94M\\x00\\x07\\x8c\\x06app.py\\x94t\\x94(h\\x05\\x8c\\x0b./check.txt\\x94Mu\\x01\\x8c\\tcheck.txt\\x94t\\x94(h\\x05\\x8c\\n./nasa.png\\x94Jr\\xb5\\x02\\x00\\x8c\\x08nasa.png\\x94t\\x94(h\\x05\\x8c\\t./ftp.png\\x94M\\xd64\\x8c\\x07ftp.png\\x94t\\x94(h\\x05\\x8c\\x0b./server.py\\x94M\\x15\\x03\\x8c\\tserver.py\\x94t\\x94(h\\x05\\x8c\\t./temp.py\\x94K$\\x8c\\x07temp.py\\x94t\\x94(h\\x01\\x8c\\x05./oop\\x94K\\x0c\\x8c\\x03oop\\x94t\\x94(h\\x05\\x8c\\x0e./computer.png\\x94M\\xba\\x01\\x8c\\x0ccomputer.png\\x94t\\x94(h\\x05\\x8c\\x07./1.otf\\x94J\\x84(\\x01\\x00\\x8c\\x051.otf\\x94t\\x94(h\\x05\\x8c\\x11./final_server.py\\x94M\\x83\\n\\x8c\\x0ffinal_server.py\\x94t\\x94(h\\x05\\x8c\\x06./i.py\\x94MQ\\x06\\x8c\\x04i.py\\x94t\\x94e.', [], 0, ('192.168.43.179', 50848))\n"
     ]
    }
   ],
   "source": [
    "len(d.files)"
   ]
  },
  {
   "cell_type": "code",
   "execution_count": 1,
   "metadata": {},
   "outputs": [
    {
     "name": "stdout",
     "output_type": "stream",
     "text": [
      "your ip is:192.168.137.179Transporter finilized!\n",
      "\n",
      "wewe ('192.168.137.179', 2121)\n",
      "here\n"
     ]
    }
   ],
   "source": [
    "import air\n",
    "destip=\"192.168.137.222\"\n",
    "myip=\"192.168.137.179\"\n",
    "g=air.Transporter(myip,destip)"
   ]
  },
  {
   "cell_type": "code",
   "execution_count": 2,
   "metadata": {},
   "outputs": [
    {
     "name": "stdout",
     "output_type": "stream",
     "text": [
      "777777777777777 192.168.137.222\n",
      "2.txt\n",
      "4444\n",
      "('192.168.137.222', 2121)\n",
      "UKK\n",
      "ioi (2, '2.txt', b'https://gaia.cs.umass.edu/kurose_ross/interactive/\\r\\nhttps://gaia.cs.umass.edu/kurose_ross/lectures.php\\r\\n\\r\\nasd\\r\\n')\n",
      "ioi (2, '2.txt', b'')\n"
     ]
    },
    {
     "data": {
      "text/plain": [
       "(2,\n",
       " '2.txt',\n",
       " [b'https://gaia.cs.umass.edu/kurose_ross/interactive/\\r\\nhttps://gaia.cs.umass.edu/kurose_ross/lectures.php\\r\\n\\r\\nasd\\r\\n',\n",
       "  b''])"
      ]
     },
     "execution_count": 2,
     "metadata": {},
     "output_type": "execute_result"
    }
   ],
   "source": [
    "g.file_sender(\"/home/mreza/Desktop/2.txt\")"
   ]
  },
  {
   "cell_type": "code",
   "execution_count": 9,
   "metadata": {},
   "outputs": [
    {
     "ename": "ConnectionRefusedError",
     "evalue": "[Errno 111] Connection refused",
     "output_type": "error",
     "traceback": [
      "\u001b[0;31m---------------------------------------------------------------------------\u001b[0m",
      "\u001b[0;31mConnectionRefusedError\u001b[0m                    Traceback (most recent call last)",
      "Cell \u001b[0;32mIn[9], line 9\u001b[0m\n\u001b[1;32m      7\u001b[0m \u001b[38;5;66;03m# Connect to the server\u001b[39;00m\n\u001b[1;32m      8\u001b[0m server_address \u001b[38;5;241m=\u001b[39m (\u001b[38;5;124m\"\u001b[39m\u001b[38;5;124mlocalhost\u001b[39m\u001b[38;5;124m\"\u001b[39m, \u001b[38;5;241m5000\u001b[39m)\n\u001b[0;32m----> 9\u001b[0m \u001b[43msock\u001b[49m\u001b[38;5;241;43m.\u001b[39;49m\u001b[43mconnect\u001b[49m\u001b[43m(\u001b[49m\u001b[43mserver_address\u001b[49m\u001b[43m)\u001b[49m\n\u001b[1;32m     11\u001b[0m \u001b[38;5;66;03m# Send the object to the server\u001b[39;00m\n\u001b[1;32m     12\u001b[0m obj \u001b[38;5;241m=\u001b[39m [\u001b[38;5;241m1\u001b[39m, \u001b[38;5;241m2\u001b[39m, \u001b[38;5;241m3\u001b[39m]\n",
      "\u001b[0;31mConnectionRefusedError\u001b[0m: [Errno 111] Connection refused"
     ]
    }
   ],
   "source": [
    "import socket\n",
    "import pickle\n",
    "# Create a socket\n",
    "sock = socket.socket(socket.AF_INET, socket.SOCK_STREAM)\n",
    "\n",
    "# Connect to the server\n",
    "server_address = (\"localhost\", 5000)\n",
    "sock.connect(server_address)\n",
    "\n",
    "# Send the object to the server\n",
    "obj = [1, 2, 3]\n",
    "pickled_object = pickle.dumps(obj)\n",
    "sock.sendall(pickled_object)\n",
    "\n",
    "# Receive the response from the server\n",
    "response = sock.recv(1024).decode()\n",
    "print(response)\n",
    "\n",
    "# Close the socket\n",
    "sock.close()\n",
    "\n",
    "\n",
    "\n",
    "\n",
    "\n",
    "\n",
    "\n",
    "\n",
    "\n",
    "\n",
    "##################\n",
    "\n",
    "import socket\n",
    "import pickle\n",
    "\n",
    "# Create a socket\n",
    "sock = socket.socket(socket.AF_INET, socket.SOCK_STREAM)\n",
    "\n",
    "# Connect to the server\n",
    "server_address = (\"localhost\", 5000)\n",
    "sock.connect(server_address)\n",
    "\n",
    "# Send the object to the server\n",
    "obj = [1, 2, 3]\n",
    "pickled_object = pickle.dumps(obj)\n",
    "sock.sendall(pickled_object)\n",
    "\n",
    "# Receive the response from the server\n",
    "response = sock.recv(1024).decode()\n",
    "print(response)\n",
    "\n",
    "# Close the socket\n",
    "sock.close()\n"
   ]
  },
  {
   "cell_type": "code",
   "execution_count": 1,
   "metadata": {},
   "outputs": [],
   "source": [
    "import numpy as np\n",
    "np.do"
   ]
  },
  {
   "cell_type": "code",
   "execution_count": 2,
   "metadata": {},
   "outputs": [],
   "source": [
    "import tkinter as tk\n",
    "from tkinter import filedialog\n",
    "\n",
    "root = tk.Tk()\n",
    "\n",
    "def open_file():\n",
    "    # Open a file dialog\n",
    "    filename = filedialog.askopenfilename(title=\"Open File\", filetypes=[(\"Text files\", \"*.txt\")])\n",
    "\n",
    "    # If a file was selected, read the file and display its contents\n",
    "    if filename:\n",
    "        with open(filename, \"r\") as f:\n",
    "            file_contents = f.read()\n",
    "            label.config(text=file_contents)\n",
    "\n",
    "# Create a button to open a file\n",
    "button = tk.Button(root, text=\"Open File\", command=open_file)\n",
    "button.pack()\n",
    "\n",
    "# Create a label to display the file contents\n",
    "label = tk.Label(root)\n",
    "label.pack()\n",
    "\n",
    "root.mainloop()\n"
   ]
  },
  {
   "cell_type": "code",
   "execution_count": 25,
   "metadata": {},
   "outputs": [
    {
     "data": {
      "text/plain": [
       "<tkinter.Button object .!canvas.!button>"
      ]
     },
     "execution_count": 25,
     "metadata": {},
     "output_type": "execute_result"
    }
   ],
   "source": [
    "# g.buttons[\"Server\"].configure()"
   ]
  },
  {
   "cell_type": "code",
   "execution_count": null,
   "metadata": {},
   "outputs": [],
   "source": [
    "d=\"\"\n",
    "re.search(\"@Fetava,([0-9]{1,3}\\.[0-9]{1,3}\\.[0-9]{1,3}\\.[0-9]{1,3}),(.+)\",d).groups()"
   ]
  },
  {
   "cell_type": "code",
   "execution_count": 2,
   "metadata": {},
   "outputs": [
    {
     "data": {
      "text/plain": [
       "{'IP': '192.168.1.107',\n",
       " 'hostname': 'Lotuva',\n",
       " 'OS': 'Linux',\n",
       " 'message': '@Fetava,#Cli,192.168.1.107,Lotuva'}"
      ]
     },
     "execution_count": 2,
     "metadata": {},
     "output_type": "execute_result"
    }
   ],
   "source": [
    "import useful\n",
    "useful.get_message(False)"
   ]
  },
  {
   "cell_type": "code",
   "execution_count": 20,
   "metadata": {},
   "outputs": [
    {
     "name": "stdout",
     "output_type": "stream",
     "text": [
      "phase1\n",
      "phase2192.168.1.107\n",
      "In recv\n",
      "Headsup!\n",
      "b'@Fetava,#Ser,192.168.1.101,archlinux' ('192.168.1.107', 40311)\n",
      "received message: b'@Fetava,#Ser,192.168.1.101,archlinux'\n",
      "@Fetava,#Cli,192.168.1.107,Lotuva\n",
      "Client acquired.\n"
     ]
    }
   ],
   "source": [
    "import socket\n",
    "import useful\n",
    "import ftp_client\n",
    "import logging\n",
    "import threading\n",
    "import re\n",
    "class Client:\n",
    "    shared=[]\n",
    "    servers={}\n",
    "    threads=[]\n",
    "    def __init__(self) -> None:\n",
    "        print(\"phase1\")\n",
    "        self.socket=useful.welcome_pack_client()\n",
    "\n",
    "        self.ip=useful.get_my_ip()\n",
    "        print(\"phase2\"+str(self.ip))\n",
    "        self.port=2273\n",
    "        self.flag=True\n",
    "        self.launch()\n",
    "    \n",
    "    def launch(self):\n",
    "        self.flag=True\n",
    "        self.recv_broadcasting()\n",
    "        self.get_up()\n",
    "        self.kill()\n",
    "   \n",
    "    def kill(self):\n",
    "        self.flag=False\n",
    "        \n",
    "\n",
    "    def get_up(self):# should be threaded\n",
    "        server_ip=list(Client.servers.keys())[-1]\n",
    "        details=Client.servers[server_ip]\n",
    "        alpha=2\n",
    "        while(alpha==2):\n",
    "            try:\n",
    "                self.socket.connect((server_ip,2273))\n",
    "                alpha=1\n",
    "            except:\n",
    "                alpha=2\n",
    "                import time\n",
    "                time.sleep(2)\n",
    "                print(\"I cant connect to server!! findout why!!!!!!!!!\")\n",
    "        message=self.client_messsage()\n",
    "        print(message)\n",
    "        m=message.encode()\n",
    "        self.socket.send(m)\n",
    "        print(\"Client acquired.\")\n",
    "        # print(\"killed\")\n",
    "    def client_messsage(self):\n",
    "        m=useful.get_message(False)\n",
    "        self.os=m[\"OS\"]\n",
    "        self.hostname=m[\"hostname\"]\n",
    "        self.ip=m[\"IP\"]\n",
    "        m=m[\"message\"]\n",
    "        return m\n",
    "\n",
    "    def recv_broadcasting(self):\n",
    "        import socket\n",
    "        print(\"In recv\")\n",
    "        client = socket.socket(socket.AF_INET, socket.SOCK_DGRAM, socket.IPPROTO_UDP) # UDP\n",
    "        client.setsockopt(socket.SOL_SOCKET, socket.SO_REUSEPORT, 1)\n",
    "        client.setsockopt(socket.SOL_SOCKET, socket.SO_BROADCAST, 1)\n",
    "        client.bind((\"\", 2273))\n",
    "        while self.flag==True:\n",
    "            data, addr = client.recvfrom(1024)\n",
    "            ip=addr[0]\n",
    "            port=addr[-1]\n",
    "            host=\"\"\n",
    "            os=\"\"\n",
    "            print(\"Headsup!\")\n",
    "            print(data,addr)\n",
    "            if(data.decode().startswith(\"@Fetava\")):\n",
    "                kk=data.decode()[8:]\n",
    "                kk=kk.split(\",\")\n",
    "                ip=kk[1]\n",
    "                host=kk[-1]\n",
    "                Client.servers[ip]=host\n",
    "\n",
    "                print(\"received message: %s\"%data)\n",
    "                self.flag=False\n",
    "                \n",
    "c=Client()"
   ]
  },
  {
   "cell_type": "code",
   "execution_count": 21,
   "metadata": {},
   "outputs": [
    {
     "data": {
      "text/plain": [
       "{'192.168.1.101': 'archlinux'}"
      ]
     },
     "execution_count": 21,
     "metadata": {},
     "output_type": "execute_result"
    }
   ],
   "source": [
    "c.servers"
   ]
  },
  {
   "cell_type": "code",
   "execution_count": 26,
   "metadata": {},
   "outputs": [],
   "source": [
    "s.flag=False\n",
    "s.socket.close()"
   ]
  },
  {
   "cell_type": "code",
   "execution_count": 2,
   "metadata": {},
   "outputs": [
    {
     "data": {
      "text/plain": [
       "{'192.168.1.101': ['archlinux', 54501, []]}"
      ]
     },
     "execution_count": 2,
     "metadata": {},
     "output_type": "execute_result"
    },
    {
     "name": "stdout",
     "output_type": "stream",
     "text": [
      "hello it's me\n",
      "@Fetava,Linux,Lotuva\n",
      "message sent! -> @Fetava,Linux,Lotuva\n",
      "hello it's me\n",
      "@Fetava,Linux,Lotuva\n",
      "message sent! -> @Fetava,Linux,Lotuva\n",
      "hello it's me\n",
      "@Fetava,Linux,Lotuva\n",
      "message sent! -> @Fetava,Linux,Lotuva\n"
     ]
    }
   ],
   "source": [
    "Server.clients"
   ]
  },
  {
   "cell_type": "code",
   "execution_count": 7,
   "metadata": {},
   "outputs": [
    {
     "data": {
      "text/plain": [
       "('192.168.1.107', 47901)"
      ]
     },
     "execution_count": 7,
     "metadata": {},
     "output_type": "execute_result"
    }
   ],
   "source": [
    "import socket\n",
    "s=socket.socket(socket.AF_INET,socket.SOCK_DGRAM)\n",
    "s.connect((\"8.8.8.8\",80))\n",
    "s.getsockname()\n",
    "# s.getsockname()"
   ]
  },
  {
   "cell_type": "code",
   "execution_count": 24,
   "metadata": {},
   "outputs": [
    {
     "data": {
      "text/plain": [
       "['192.168.1.107']"
      ]
     },
     "execution_count": 24,
     "metadata": {},
     "output_type": "execute_result"
    }
   ],
   "source": [
    "import os\n",
    "command ='''\n",
    "ip addr | grep -Eo \"[0-9]{1,3}.[0-9]{1,3}.[0-9]{1,3}.[0-9]{1,3}\\/[0-9]{0,3}\"|grep -Eo \"[0-9]{1,3}.[0-9]{1,3}.[0-9]{1,3}.[0-9]{1,3}\"\n",
    "'''\n",
    "p=[]\n",
    "for i in list(os.popen(command)):\n",
    "    if(not (i.startswith(\"127\")) or (i.startswith(\"10\"))):\n",
    "        p.append(i[:-1])\n"
   ]
  },
  {
   "cell_type": "code",
   "execution_count": 9,
   "metadata": {},
   "outputs": [
    {
     "data": {
      "text/plain": [
       "'Lotuva'"
      ]
     },
     "execution_count": 9,
     "metadata": {},
     "output_type": "execute_result"
    }
   ],
   "source": [
    "socket.gethostbyname(socket.getfqdn())\n",
    "socket.getfqdn()"
   ]
  },
  {
   "cell_type": "code",
   "execution_count": 4,
   "metadata": {},
   "outputs": [
    {
     "name": "stdout",
     "output_type": "stream",
     "text": [
      "('Lotuva', [], ['127.0.1.1'])\n"
     ]
    }
   ],
   "source": [
    "import socket\n",
    "\n",
    "hostname = socket.gethostname()\n",
    "ip_address = socket.gethostbyaddr(hostname)\n",
    "\n",
    "print(ip_address)\n"
   ]
  },
  {
   "cell_type": "code",
   "execution_count": 41,
   "metadata": {},
   "outputs": [
    {
     "ename": "OSError",
     "evalue": "[Errno 101] Network is unreachable",
     "output_type": "error",
     "traceback": [
      "\u001b[0;31m---------------------------------------------------------------------------\u001b[0m",
      "\u001b[0;31mOSError\u001b[0m                                   Traceback (most recent call last)",
      "Cell \u001b[0;32mIn[41], line 11\u001b[0m\n\u001b[1;32m      8\u001b[0m port \u001b[38;5;241m=\u001b[39m \u001b[38;5;241m12345\u001b[39m\t\t\t\n\u001b[1;32m     10\u001b[0m \u001b[38;5;66;03m# connect to the server on local computer \u001b[39;00m\n\u001b[0;32m---> 11\u001b[0m \u001b[43ms\u001b[49m\u001b[38;5;241;43m.\u001b[39;49m\u001b[43mconnect\u001b[49m\u001b[43m(\u001b[49m\u001b[43m(\u001b[49m\u001b[38;5;124;43m'\u001b[39;49m\u001b[38;5;124;43m192.168.1.255\u001b[39;49m\u001b[38;5;124;43m'\u001b[39;49m\u001b[43m,\u001b[49m\u001b[43m \u001b[49m\u001b[43mport\u001b[49m\u001b[43m)\u001b[49m\u001b[43m)\u001b[49m \n\u001b[1;32m     12\u001b[0m \u001b[38;5;66;03m# s.connect(())\u001b[39;00m\n\u001b[1;32m     13\u001b[0m \u001b[38;5;66;03m# receive data from the server and decoding to get the string.\u001b[39;00m\n\u001b[1;32m     14\u001b[0m \u001b[38;5;66;03m# s.recv()\u001b[39;00m\n\u001b[1;32m     15\u001b[0m \u001b[38;5;28;01mwhile\u001b[39;00m(\u001b[38;5;28;01mTrue\u001b[39;00m):\n\u001b[1;32m     16\u001b[0m     \u001b[38;5;66;03m# print (s.recv(1024).decode())\u001b[39;00m\n",
      "\u001b[0;31mOSError\u001b[0m: [Errno 101] Network is unreachable"
     ]
    }
   ],
   "source": [
    "# Import socket module \n",
    "import socket\t\t\t \n",
    "\n",
    "# Create a socket object \n",
    "s = socket.socket(socket.AF_INET, socket.SOCK_STREAM)\t \n",
    "\n",
    "# Define the port on which you want to connect \n",
    "port = 12345\t\t\t\n",
    "\n",
    "# connect to the server on local computer \n",
    "s.connect(('192.168.1.255', port)) \n",
    "# s.connect(())\n",
    "# receive data from the server and decoding to get the string.\n",
    "# s.recv()\n",
    "while(True):\n",
    "    # print (s.recv(1024).decode())\n",
    "    d=input()\n",
    "    s.send(d.encode())\n",
    "    if(\"exit\" in d):\n",
    "        break\n",
    "# close the connection \n",
    "s.close()\t \n",
    "\t\n"
   ]
  },
  {
   "cell_type": "code",
   "execution_count": 69,
   "metadata": {},
   "outputs": [],
   "source": [
    "p={1:5,8:7}"
   ]
  },
  {
   "cell_type": "code",
   "execution_count": 73,
   "metadata": {},
   "outputs": [
    {
     "data": {
      "text/plain": [
       "[1, 8]"
      ]
     },
     "execution_count": 73,
     "metadata": {},
     "output_type": "execute_result"
    }
   ],
   "source": [
    "list(p.keys())"
   ]
  },
  {
   "cell_type": "code",
   "execution_count": 52,
   "metadata": {},
   "outputs": [
    {
     "data": {
      "text/plain": [
       "3"
      ]
     },
     "execution_count": 52,
     "metadata": {},
     "output_type": "execute_result"
    }
   ],
   "source": [
    "import socket\n",
    "message = \"asd\".encode()\n",
    "s = socket.socket(socket.AF_INET, socket.SOCK_DGRAM)\n",
    "s.setsockopt(socket.SOL_SOCKET, socket.SO_REUSEADDR, 1)\n",
    "s.setsockopt(socket.SOL_SOCKET, socket.SO_BROADCAST, 1)\n",
    "s.sendto(message, ('192.168.1.255', 50000))"
   ]
  },
  {
   "cell_type": "code",
   "execution_count": 68,
   "metadata": {},
   "outputs": [
    {
     "name": "stdout",
     "output_type": "stream",
     "text": [
      "message sent!\n",
      "message sent!\n",
      "message sent!\n",
      "message sent!\n",
      "message sent!\n",
      "message sent!\n",
      "message sent!\n",
      "message sent!\n",
      "message sent!\n",
      "message sent!\n",
      "message sent!\n",
      "message sent!\n",
      "message sent!\n",
      "message sent!\n",
      "message sent!\n",
      "message sent!\n",
      "message sent!\n",
      "message sent!\n",
      "message sent!\n",
      "message sent!\n"
     ]
    },
    {
     "ename": "KeyboardInterrupt",
     "evalue": "",
     "output_type": "error",
     "traceback": [
      "\u001b[0;31m---------------------------------------------------------------------------\u001b[0m",
      "\u001b[0;31mKeyboardInterrupt\u001b[0m                         Traceback (most recent call last)",
      "Cell \u001b[0;32mIn[68], line 23\u001b[0m\n\u001b[1;32m     21\u001b[0m server\u001b[38;5;241m.\u001b[39msendto(message, (\u001b[38;5;124m'\u001b[39m\u001b[38;5;124m<broadcast>\u001b[39m\u001b[38;5;124m'\u001b[39m, \u001b[38;5;241m37020\u001b[39m))\n\u001b[1;32m     22\u001b[0m \u001b[38;5;28mprint\u001b[39m(\u001b[38;5;124m\"\u001b[39m\u001b[38;5;124mmessage sent!\u001b[39m\u001b[38;5;124m\"\u001b[39m)\n\u001b[0;32m---> 23\u001b[0m \u001b[43mtime\u001b[49m\u001b[38;5;241;43m.\u001b[39;49m\u001b[43msleep\u001b[49m\u001b[43m(\u001b[49m\u001b[38;5;241;43m1\u001b[39;49m\u001b[43m)\u001b[49m\n",
      "\u001b[0;31mKeyboardInterrupt\u001b[0m: "
     ]
    }
   ],
   "source": [
    "import socket\n",
    "import time\n",
    "\n",
    "server = socket.socket(socket.AF_INET, socket.SOCK_DGRAM, socket.IPPROTO_UDP)\n",
    "\n",
    "# Enable port reusage so we will be able to run multiple clients and servers on single (host, port). \n",
    "# Do not use socket.SO_REUSEADDR except you using linux(kernel<3.9): goto https://stackoverflow.com/questions/14388706/how-do-so-reuseaddr-and-so-reuseport-differ for more information.\n",
    "# For linux hosts all sockets that want to share the same address and port combination must belong to processes that share the same effective user ID!\n",
    "# So, on linux(kernel>=3.9) you have to run multiple servers and clients under one user to share the same (host, port).\n",
    "# Thanks to @stevenreddie\n",
    "server.setsockopt(socket.SOL_SOCKET, socket.SO_REUSEPORT, 1)\n",
    "\n",
    "# Enable broadcasting mode\n",
    "server.setsockopt(socket.SOL_SOCKET, socket.SO_BROADCAST, 1)\n",
    "\n",
    "# Set a timeout so the socket does not block\n",
    "# indefinitely when trying to receive data.\n",
    "server.settimeout(0.2)\n",
    "message = b\"your very important message\"\n",
    "while True:\n",
    "    server.sendto(message, ('<broadcast>', 37020))\n",
    "    print(\"message sent!\")\n",
    "    time.sleep(1)\n"
   ]
  },
  {
   "cell_type": "code",
   "execution_count": 66,
   "metadata": {},
   "outputs": [
    {
     "ename": "KeyError",
     "evalue": "'asd'",
     "output_type": "error",
     "traceback": [
      "\u001b[0;31m---------------------------------------------------------------------------\u001b[0m",
      "\u001b[0;31mKeyError\u001b[0m                                  Traceback (most recent call last)",
      "Cell \u001b[0;32mIn[66], line 2\u001b[0m\n\u001b[1;32m      1\u001b[0m l\u001b[38;5;241m=\u001b[39m{}\n\u001b[0;32m----> 2\u001b[0m \u001b[38;5;28;01mif\u001b[39;00m(\u001b[43ml\u001b[49m\u001b[43m[\u001b[49m\u001b[38;5;124;43m\"\u001b[39;49m\u001b[38;5;124;43masd\u001b[39;49m\u001b[38;5;124;43m\"\u001b[39;49m\u001b[43m]\u001b[49m \u001b[38;5;129;01mis\u001b[39;00m \u001b[38;5;28;01mNone\u001b[39;00m):\n\u001b[1;32m      3\u001b[0m     \u001b[38;5;28mprint\u001b[39m(\u001b[38;5;241m8\u001b[39m)\n",
      "\u001b[0;31mKeyError\u001b[0m: 'asd'"
     ]
    }
   ],
   "source": [
    "l={}\n",
    "if(l[\"asd\"] is None):\n",
    "    print(8)"
   ]
  },
  {
   "cell_type": "code",
   "execution_count": 65,
   "metadata": {},
   "outputs": [
    {
     "data": {
      "text/plain": [
       "'192.168.1.107'"
      ]
     },
     "execution_count": 65,
     "metadata": {},
     "output_type": "execute_result"
    }
   ],
   "source": [
    "import os\n",
    "\n",
    "command = 'hostname -I'\n",
    "output = os.popen(command).read()\n",
    "ip_address = output.split()[0]\n",
    "\n",
    "ip_address\n"
   ]
  },
  {
   "cell_type": "code",
   "execution_count": 35,
   "metadata": {},
   "outputs": [
    {
     "ename": "PermissionError",
     "evalue": "[Errno 1] Operation not permitted",
     "output_type": "error",
     "traceback": [
      "\u001b[0;31m---------------------------------------------------------------------------\u001b[0m",
      "\u001b[0;31mPermissionError\u001b[0m                           Traceback (most recent call last)",
      "Cell \u001b[0;32mIn[35], line 22\u001b[0m\n\u001b[1;32m     19\u001b[0m local_network \u001b[38;5;241m=\u001b[39m \u001b[38;5;124m\"\u001b[39m\u001b[38;5;124m192.168.1.0/24\u001b[39m\u001b[38;5;124m\"\u001b[39m\n\u001b[1;32m     21\u001b[0m \u001b[38;5;66;03m# Discover devices on the local network\u001b[39;00m\n\u001b[0;32m---> 22\u001b[0m devices \u001b[38;5;241m=\u001b[39m \u001b[43mdiscover_devices\u001b[49m\u001b[43m(\u001b[49m\u001b[43mlocal_network\u001b[49m\u001b[43m)\u001b[49m\n\u001b[1;32m     24\u001b[0m \u001b[38;5;66;03m# Print the discovered devices\u001b[39;00m\n\u001b[1;32m     25\u001b[0m \u001b[38;5;28;01mfor\u001b[39;00m device \u001b[38;5;129;01min\u001b[39;00m devices:\n",
      "Cell \u001b[0;32mIn[35], line 10\u001b[0m, in \u001b[0;36mdiscover_devices\u001b[0;34m(ip_range)\u001b[0m\n\u001b[1;32m      7\u001b[0m packet \u001b[38;5;241m=\u001b[39m ether\u001b[38;5;241m/\u001b[39marp\n\u001b[1;32m      9\u001b[0m \u001b[38;5;66;03m# Send the packet and capture the response\u001b[39;00m\n\u001b[0;32m---> 10\u001b[0m result \u001b[38;5;241m=\u001b[39m \u001b[43msrp\u001b[49m\u001b[43m(\u001b[49m\u001b[43mpacket\u001b[49m\u001b[43m,\u001b[49m\u001b[43m \u001b[49m\u001b[43mtimeout\u001b[49m\u001b[38;5;241;43m=\u001b[39;49m\u001b[38;5;241;43m3\u001b[39;49m\u001b[43m,\u001b[49m\u001b[43m \u001b[49m\u001b[43mverbose\u001b[49m\u001b[38;5;241;43m=\u001b[39;49m\u001b[38;5;241;43m0\u001b[39;49m\u001b[43m)\u001b[49m[\u001b[38;5;241m0\u001b[39m]\n\u001b[1;32m     12\u001b[0m \u001b[38;5;66;03m# Extract and return the IP addresses of the discovered devices\u001b[39;00m\n\u001b[1;32m     13\u001b[0m devices \u001b[38;5;241m=\u001b[39m []\n",
      "File \u001b[0;32m~/.local/lib/python3.10/site-packages/scapy/sendrecv.py:687\u001b[0m, in \u001b[0;36msrp\u001b[0;34m(x, promisc, iface, iface_hint, filter, nofilter, type, *args, **kargs)\u001b[0m\n\u001b[1;32m    685\u001b[0m     iface \u001b[38;5;241m=\u001b[39m conf\u001b[38;5;241m.\u001b[39mroute\u001b[38;5;241m.\u001b[39mroute(iface_hint)[\u001b[38;5;241m0\u001b[39m]\n\u001b[1;32m    686\u001b[0m iface \u001b[38;5;241m=\u001b[39m resolve_iface(iface \u001b[38;5;129;01mor\u001b[39;00m conf\u001b[38;5;241m.\u001b[39miface)\n\u001b[0;32m--> 687\u001b[0m s \u001b[38;5;241m=\u001b[39m \u001b[43miface\u001b[49m\u001b[38;5;241;43m.\u001b[39;49m\u001b[43ml2socket\u001b[49m\u001b[43m(\u001b[49m\u001b[43m)\u001b[49m\u001b[43m(\u001b[49m\u001b[43mpromisc\u001b[49m\u001b[38;5;241;43m=\u001b[39;49m\u001b[43mpromisc\u001b[49m\u001b[43m,\u001b[49m\u001b[43m \u001b[49m\u001b[43miface\u001b[49m\u001b[38;5;241;43m=\u001b[39;49m\u001b[43miface\u001b[49m\u001b[43m,\u001b[49m\n\u001b[1;32m    688\u001b[0m \u001b[43m                     \u001b[49m\u001b[38;5;28;43mfilter\u001b[39;49m\u001b[38;5;241;43m=\u001b[39;49m\u001b[38;5;28;43mfilter\u001b[39;49m\u001b[43m,\u001b[49m\u001b[43m \u001b[49m\u001b[43mnofilter\u001b[49m\u001b[38;5;241;43m=\u001b[39;49m\u001b[43mnofilter\u001b[49m\u001b[43m,\u001b[49m\u001b[43m \u001b[49m\u001b[38;5;28;43mtype\u001b[39;49m\u001b[38;5;241;43m=\u001b[39;49m\u001b[38;5;28;43mtype\u001b[39;49m\u001b[43m)\u001b[49m\n\u001b[1;32m    689\u001b[0m result \u001b[38;5;241m=\u001b[39m sndrcv(s, x, \u001b[38;5;241m*\u001b[39margs, \u001b[38;5;241m*\u001b[39m\u001b[38;5;241m*\u001b[39mkargs)\n\u001b[1;32m    690\u001b[0m s\u001b[38;5;241m.\u001b[39mclose()\n",
      "File \u001b[0;32m~/.local/lib/python3.10/site-packages/scapy/arch/linux.py:484\u001b[0m, in \u001b[0;36mL2Socket.__init__\u001b[0;34m(self, iface, type, promisc, filter, nofilter, monitor)\u001b[0m\n\u001b[1;32m    482\u001b[0m \u001b[38;5;28mself\u001b[39m\u001b[38;5;241m.\u001b[39mtype \u001b[38;5;241m=\u001b[39m \u001b[38;5;28mtype\u001b[39m\n\u001b[1;32m    483\u001b[0m \u001b[38;5;28mself\u001b[39m\u001b[38;5;241m.\u001b[39mpromisc \u001b[38;5;241m=\u001b[39m conf\u001b[38;5;241m.\u001b[39msniff_promisc \u001b[38;5;28;01mif\u001b[39;00m promisc \u001b[38;5;129;01mis\u001b[39;00m \u001b[38;5;28;01mNone\u001b[39;00m \u001b[38;5;28;01melse\u001b[39;00m promisc\n\u001b[0;32m--> 484\u001b[0m \u001b[38;5;28mself\u001b[39m\u001b[38;5;241m.\u001b[39mins \u001b[38;5;241m=\u001b[39m \u001b[43msocket\u001b[49m\u001b[38;5;241;43m.\u001b[39;49m\u001b[43msocket\u001b[49m\u001b[43m(\u001b[49m\n\u001b[1;32m    485\u001b[0m \u001b[43m    \u001b[49m\u001b[43msocket\u001b[49m\u001b[38;5;241;43m.\u001b[39;49m\u001b[43mAF_PACKET\u001b[49m\u001b[43m,\u001b[49m\u001b[43m \u001b[49m\u001b[43msocket\u001b[49m\u001b[38;5;241;43m.\u001b[39;49m\u001b[43mSOCK_RAW\u001b[49m\u001b[43m,\u001b[49m\u001b[43m \u001b[49m\u001b[43msocket\u001b[49m\u001b[38;5;241;43m.\u001b[39;49m\u001b[43mhtons\u001b[49m\u001b[43m(\u001b[49m\u001b[38;5;28;43mtype\u001b[39;49m\u001b[43m)\u001b[49m\u001b[43m)\u001b[49m\n\u001b[1;32m    486\u001b[0m \u001b[38;5;28mself\u001b[39m\u001b[38;5;241m.\u001b[39mins\u001b[38;5;241m.\u001b[39msetsockopt(socket\u001b[38;5;241m.\u001b[39mSOL_SOCKET, socket\u001b[38;5;241m.\u001b[39mSO_RCVBUF, \u001b[38;5;241m0\u001b[39m)\n\u001b[1;32m    487\u001b[0m \u001b[38;5;28;01mif\u001b[39;00m \u001b[38;5;129;01mnot\u001b[39;00m nofilter:\n",
      "File \u001b[0;32m/usr/lib/python3.10/socket.py:232\u001b[0m, in \u001b[0;36msocket.__init__\u001b[0;34m(self, family, type, proto, fileno)\u001b[0m\n\u001b[1;32m    230\u001b[0m     \u001b[38;5;28;01mif\u001b[39;00m proto \u001b[38;5;241m==\u001b[39m \u001b[38;5;241m-\u001b[39m\u001b[38;5;241m1\u001b[39m:\n\u001b[1;32m    231\u001b[0m         proto \u001b[38;5;241m=\u001b[39m \u001b[38;5;241m0\u001b[39m\n\u001b[0;32m--> 232\u001b[0m \u001b[43m_socket\u001b[49m\u001b[38;5;241;43m.\u001b[39;49m\u001b[43msocket\u001b[49m\u001b[38;5;241;43m.\u001b[39;49m\u001b[38;5;21;43m__init__\u001b[39;49m\u001b[43m(\u001b[49m\u001b[38;5;28;43mself\u001b[39;49m\u001b[43m,\u001b[49m\u001b[43m \u001b[49m\u001b[43mfamily\u001b[49m\u001b[43m,\u001b[49m\u001b[43m \u001b[49m\u001b[38;5;28;43mtype\u001b[39;49m\u001b[43m,\u001b[49m\u001b[43m \u001b[49m\u001b[43mproto\u001b[49m\u001b[43m,\u001b[49m\u001b[43m \u001b[49m\u001b[43mfileno\u001b[49m\u001b[43m)\u001b[49m\n\u001b[1;32m    233\u001b[0m \u001b[38;5;28mself\u001b[39m\u001b[38;5;241m.\u001b[39m_io_refs \u001b[38;5;241m=\u001b[39m \u001b[38;5;241m0\u001b[39m\n\u001b[1;32m    234\u001b[0m \u001b[38;5;28mself\u001b[39m\u001b[38;5;241m.\u001b[39m_closed \u001b[38;5;241m=\u001b[39m \u001b[38;5;28;01mFalse\u001b[39;00m\n",
      "\u001b[0;31mPermissionError\u001b[0m: [Errno 1] Operation not permitted"
     ]
    }
   ],
   "source": [
    "from scapy.all import ARP, Ether, srp\n",
    "\n",
    "def discover_devices(ip_range):\n",
    "    # Create ARP request packet\n",
    "    arp = ARP(pdst=ip_range)\n",
    "    ether = Ether(dst=\"ff:ff:ff:ff:ff:ff\")\n",
    "    packet = ether/arp\n",
    "\n",
    "    # Send the packet and capture the response\n",
    "    result = srp(packet, timeout=3, verbose=0)[0]\n",
    "\n",
    "    # Extract and return the IP addresses of the discovered devices\n",
    "    devices = []\n",
    "    for sent, received in result:\n",
    "        devices.append({'ip': received.psrc, 'mac': received.hwsrc})\n",
    "    return devices\n",
    "\n",
    "# Specify your local network range (e.g., 192.168.1.0/24)\n",
    "local_network = \"192.168.1.0/24\"\n",
    "\n",
    "# Discover devices on the local network\n",
    "devices = discover_devices(local_network)\n",
    "\n",
    "# Print the discovered devices\n",
    "for device in devices:\n",
    "    print(f\"IP Address: {device['ip']}, MAC Address: {device['mac']}\")\n"
   ]
  },
  {
   "cell_type": "code",
   "execution_count": 34,
   "metadata": {},
   "outputs": [
    {
     "data": {
      "text/plain": [
       "'asdfasdfq1111111111'"
      ]
     },
     "execution_count": 34,
     "metadata": {},
     "output_type": "execute_result"
    }
   ],
   "source": [
    "k[0].decode()"
   ]
  },
  {
   "cell_type": "code",
   "execution_count": 32,
   "metadata": {},
   "outputs": [
    {
     "name": "stdout",
     "output_type": "stream",
     "text": [
      "(b'asdfasdf', [], 0, ('127.0.0.1', 45163))\n",
      "(b'asdfasdfq1111111111', [], 0, ('127.0.0.1', 45163))\n"
     ]
    },
    {
     "ename": "KeyboardInterrupt",
     "evalue": "",
     "output_type": "error",
     "traceback": [
      "\u001b[0;31m---------------------------------------------------------------------------\u001b[0m",
      "\u001b[0;31mKeyboardInterrupt\u001b[0m                         Traceback (most recent call last)",
      "Cell \u001b[0;32mIn[32], line 2\u001b[0m\n\u001b[1;32m      1\u001b[0m \u001b[38;5;28;01mwhile\u001b[39;00m(\u001b[38;5;241m1\u001b[39m):\n\u001b[0;32m----> 2\u001b[0m     \u001b[38;5;28mprint\u001b[39m(k\u001b[38;5;241m:=\u001b[39m\u001b[43ms\u001b[49m\u001b[38;5;241;43m.\u001b[39;49m\u001b[43mrecvmsg\u001b[49m\u001b[43m(\u001b[49m\u001b[38;5;241;43m1024\u001b[39;49m\u001b[43m,\u001b[49m\u001b[38;5;241;43m100\u001b[39;49m\u001b[43m)\u001b[49m)\n",
      "\u001b[0;31mKeyboardInterrupt\u001b[0m: "
     ]
    }
   ],
   "source": [
    "while(1):\n",
    "    print(k:=s.recvmsg(1024,100))"
   ]
  },
  {
   "cell_type": "code",
   "execution_count": null,
   "metadata": {},
   "outputs": [],
   "source": [
    "# first of all import the socket library \n",
    "import socket\t\t\t \n",
    "\n",
    "# next create a socket object \n",
    "s = socket.socket(family=socket.AF_INET, type=socket.SOCK_DGRAM)\n",
    "print (\"Socket successfully created\")\n",
    "\n",
    "# reserve a port on your computer in our \n",
    "# case it is 12345 but it can be anything \n",
    "port = 12345\t\t\t\n",
    "from plyer import notification\n",
    "s.bind(('', port))\t\t \n",
    "print (\"socket binded to %s\" %(port)) \n",
    " \n",
    "print (\"socket is listening\")\t\t \n",
    "\n",
    "while True: \n",
    "    d=s.recv(1024).decode()\n",
    "    print(d)\n",
    "    if(\"exit\" in d):\n",
    "        break"
   ]
  },
  {
   "cell_type": "code",
   "execution_count": 7,
   "metadata": {},
   "outputs": [
    {
     "data": {
      "text/plain": [
       "['192.168.43.53', '192.168.43.2', '169.254.169.254']"
      ]
     },
     "execution_count": 7,
     "metadata": {},
     "output_type": "execute_result"
    }
   ],
   "source": [
    "import re\n",
    "re.findall(\"[1-9]{1,3}\\.[1-9]{1,3}\\.[1-9]{1,3}\\.[1-9]{1,3}\",bb)"
   ]
  },
  {
   "cell_type": "code",
   "execution_count": 1,
   "metadata": {},
   "outputs": [
    {
     "name": "stdout",
     "output_type": "stream",
     "text": [
      "5555888\n",
      "\n"
     ]
    },
    {
     "name": "stdout",
     "output_type": "stream",
     "text": [
      "28392838923\n"
     ]
    }
   ],
   "source": [
    "import threading\n",
    "def f():\n",
    "\n",
    "    print(5555)\n",
    "    import time\n",
    "    time.sleep(10)\n",
    "    print(28392838923)\n",
    "t=threading.Thread(target=f)\n",
    "\n",
    "t.start()\n",
    "print(888)"
   ]
  },
  {
   "cell_type": "code",
   "execution_count": 50,
   "metadata": {},
   "outputs": [],
   "source": [
    "# threading.Event().set()\n",
    "# threading.enumerate()\n",
    "# threading.settrace(lambda x: print(5))\n",
    "# threading.gettrace()\n",
    "# threading"
   ]
  },
  {
   "cell_type": "code",
   "execution_count": 11,
   "metadata": {},
   "outputs": [
    {
     "name": "stdout",
     "output_type": "stream",
     "text": [
      "5<Thread(Hi darling0, started 139815588709952)>\n",
      "\n",
      "Hi darling0\n",
      "5\n",
      "Hi darling1\n",
      "<Thread(Hi darling1, started 139816100402752)>\n",
      "5\n",
      "Hi darling2\n",
      "<Thread(Hi darling2, started 139815605495360)>\n",
      "5\n",
      "Hi darling3\n",
      "<Thread(Hi darling3, started 139815597102656)>\n",
      "5\n",
      "Hi darling4\n",
      "<Thread(Hi darling4, started 139815613888064)>\n"
     ]
    },
    {
     "name": "stderr",
     "output_type": "stream",
     "text": [
      "/tmp/ipykernel_18962/232605275.py:16: DeprecationWarning: setName() is deprecated, set the name attribute instead\n",
      "  ti.setName(\"Hi darling\"+str(i))\n",
      "/tmp/ipykernel_18962/232605275.py:4: DeprecationWarning: getName() is deprecated, get the name attribute instead\n",
      "  print(threading.current_thread().getName())\n"
     ]
    },
    {
     "name": "stdout",
     "output_type": "stream",
     "text": [
      "asdasd True\n",
      "6\n",
      "6\n",
      "asdasd True\n",
      "6\n",
      "asdasd True\n",
      "6\n",
      "asdasd True\n",
      "6\n"
     ]
    }
   ],
   "source": [
    "def g():\n",
    "    print(5)\n",
    "    import time\n",
    "    print(threading.current_thread().getName())\n",
    "    time.sleep(10)\n",
    "    # threading.current_thread().\n",
    "    threading.Event().set\n",
    "    import random\n",
    "    if(a:=random.randint(2,10)>5):\n",
    "        print(\"asdasd\",a)\n",
    "    print(6)\n",
    "    return 888\n",
    "\n",
    "\n",
    "t=[]\n",
    "for i in range(5):\n",
    "    ti=threading.Thread(target=g)\n",
    "    ti.setName(\"Hi darling\"+str(i))\n",
    "    t.append(ti)\n",
    "    # try:\n",
    "    ti.start()\n",
    "    print(ti)\n",
    "    # except:\n",
    "        # pass\n",
    "# threading.Thread(target=g).start()"
   ]
  },
  {
   "cell_type": "code",
   "execution_count": 42,
   "metadata": {},
   "outputs": [
    {
     "name": "stdout",
     "output_type": "stream",
     "text": [
      "Result: 30\n"
     ]
    }
   ],
   "source": [
    "import concurrent.futures\n",
    "\n",
    "def my_function(arg1, arg2):\n",
    "    # Your function implementation\n",
    "    result = arg1 + arg2\n",
    "    return result\n",
    "\n",
    "# Example usage\n",
    "with concurrent.futures.ThreadPoolExecutor() as executor:\n",
    "    # Submit the function to the thread pool\n",
    "    future = executor.submit(my_function, 10, 20)\n",
    "\n",
    "    # Retrieve the result when the function completes\n",
    "    result = future.result()\n",
    "\n",
    "print(f\"Result: {result}\")\n"
   ]
  },
  {
   "cell_type": "code",
   "execution_count": 1,
   "metadata": {},
   "outputs": [
    {
     "ename": "ModuleNotFoundError",
     "evalue": "No module named 'Crypto'",
     "output_type": "error",
     "traceback": [
      "\u001b[0;31m---------------------------------------------------------------------------\u001b[0m",
      "\u001b[0;31mModuleNotFoundError\u001b[0m                       Traceback (most recent call last)",
      "Cell \u001b[0;32mIn[1], line 3\u001b[0m\n\u001b[1;32m      1\u001b[0m \u001b[38;5;28;01mimport\u001b[39;00m \u001b[38;5;21;01mbase64\u001b[39;00m\n\u001b[1;32m      2\u001b[0m \u001b[38;5;28;01mimport\u001b[39;00m \u001b[38;5;21;01mhashlib\u001b[39;00m\n\u001b[0;32m----> 3\u001b[0m \u001b[38;5;28;01mfrom\u001b[39;00m \u001b[38;5;21;01mCrypto\u001b[39;00m \u001b[38;5;28;01mimport\u001b[39;00m Random\n\u001b[1;32m      4\u001b[0m \u001b[38;5;28;01mfrom\u001b[39;00m \u001b[38;5;21;01mCrypto\u001b[39;00m\u001b[38;5;21;01m.\u001b[39;00m\u001b[38;5;21;01mCipher\u001b[39;00m \u001b[38;5;28;01mimport\u001b[39;00m AES\n\u001b[1;32m      6\u001b[0m \u001b[38;5;28;01mclass\u001b[39;00m \u001b[38;5;21;01mAESCipher\u001b[39;00m(\u001b[38;5;28mobject\u001b[39m):\n",
      "\u001b[0;31mModuleNotFoundError\u001b[0m: No module named 'Crypto'"
     ]
    }
   ],
   "source": [
    "import base64\n",
    "import hashlib\n",
    "from Crypto import Random\n",
    "from Crypto.Cipher import AES\n",
    "\n",
    "class AESCipher(object):\n",
    "\n",
    "    def __init__(self, key):\n",
    "        self.bs = AES.block_size\n",
    "        self.key = hashlib.sha256(key.encode()).digest()\n",
    "\n",
    "    def encrypt(self, raw):\n",
    "        raw = self._pad(raw)\n",
    "        iv = Random.new().read(AES.block_size)\n",
    "        cipher = AES.new(self.key, AES.MODE_CBC, iv)\n",
    "        return base64.b64encode(iv + cipher.encrypt(raw.encode()))\n",
    "\n",
    "    def decrypt(self, enc):\n",
    "        enc = base64.b64decode(enc)\n",
    "        iv = enc[:AES.block_size]\n",
    "        cipher = AES.new(self.key, AES.MODE_CBC, iv)\n",
    "        return AESCipher._unpad(cipher.decrypt(enc[AES.block_size:])).decode('utf-8')\n",
    "\n",
    "    def _pad(self, s):\n",
    "        return s + (self.bs - len(s) % self.bs) * chr(self.bs - len(s) % self.bs)\n",
    "\n",
    "    @staticmethod\n",
    "    def _unpad(s):\n",
    "        return s[:-ord(s[len(s)-1:])]"
   ]
  },
  {
   "cell_type": "code",
   "execution_count": 61,
   "metadata": {},
   "outputs": [],
   "source": [
    "class x:\n",
    "    p=[]\n",
    "\n",
    "y=x()"
   ]
  },
  {
   "cell_type": "code",
   "execution_count": 8,
   "metadata": {},
   "outputs": [
    {
     "ename": "PermissionError",
     "evalue": "[Errno 1] Operation not permitted",
     "output_type": "error",
     "traceback": [
      "\u001b[0;31m---------------------------------------------------------------------------\u001b[0m",
      "\u001b[0;31mPermissionError\u001b[0m                           Traceback (most recent call last)",
      "Cell \u001b[0;32mIn[8], line 17\u001b[0m\n\u001b[1;32m     15\u001b[0m \u001b[38;5;66;03m# Example usage: Perform an ARP scan on a specific IP range\u001b[39;00m\n\u001b[1;32m     16\u001b[0m ip_range \u001b[38;5;241m=\u001b[39m \u001b[38;5;124m\"\u001b[39m\u001b[38;5;124m192.168.1.1/24\u001b[39m\u001b[38;5;124m\"\u001b[39m  \u001b[38;5;66;03m# Replace with your network range\u001b[39;00m\n\u001b[0;32m---> 17\u001b[0m devices \u001b[38;5;241m=\u001b[39m \u001b[43marp_scan\u001b[49m\u001b[43m(\u001b[49m\u001b[43mip_range\u001b[49m\u001b[43m)\u001b[49m\n\u001b[1;32m     19\u001b[0m \u001b[38;5;66;03m# Display the results\u001b[39;00m\n\u001b[1;32m     20\u001b[0m \u001b[38;5;28;01mfor\u001b[39;00m device \u001b[38;5;129;01min\u001b[39;00m devices:\n",
      "Cell \u001b[0;32mIn[8], line 8\u001b[0m, in \u001b[0;36marp_scan\u001b[0;34m(ip_range)\u001b[0m\n\u001b[1;32m      5\u001b[0m arp_request \u001b[38;5;241m=\u001b[39m Ether(dst\u001b[38;5;241m=\u001b[39m\u001b[38;5;124m\"\u001b[39m\u001b[38;5;124mff:ff:ff:ff:ff:ff\u001b[39m\u001b[38;5;124m\"\u001b[39m) \u001b[38;5;241m/\u001b[39m ARP(pdst\u001b[38;5;241m=\u001b[39mip_range)\n\u001b[1;32m      7\u001b[0m \u001b[38;5;66;03m# Send the packet and receive responses\u001b[39;00m\n\u001b[0;32m----> 8\u001b[0m result \u001b[38;5;241m=\u001b[39m \u001b[43msrp\u001b[49m\u001b[43m(\u001b[49m\u001b[43marp_request\u001b[49m\u001b[43m,\u001b[49m\u001b[43m \u001b[49m\u001b[43mtimeout\u001b[49m\u001b[38;5;241;43m=\u001b[39;49m\u001b[38;5;241;43m3\u001b[39;49m\u001b[43m,\u001b[49m\u001b[43m \u001b[49m\u001b[43mverbose\u001b[49m\u001b[38;5;241;43m=\u001b[39;49m\u001b[38;5;241;43m0\u001b[39;49m\u001b[43m)\u001b[49m[\u001b[38;5;241m0\u001b[39m]\n\u001b[1;32m     10\u001b[0m \u001b[38;5;66;03m# Extract IP addresses and corresponding MAC addresses\u001b[39;00m\n\u001b[1;32m     11\u001b[0m devices \u001b[38;5;241m=\u001b[39m [{\u001b[38;5;124m'\u001b[39m\u001b[38;5;124mip_address\u001b[39m\u001b[38;5;124m'\u001b[39m: pkt[\u001b[38;5;241m1\u001b[39m]\u001b[38;5;241m.\u001b[39mpsrc, \u001b[38;5;124m'\u001b[39m\u001b[38;5;124mmac_address\u001b[39m\u001b[38;5;124m'\u001b[39m: pkt[\u001b[38;5;241m1\u001b[39m]\u001b[38;5;241m.\u001b[39mhwsrc} \u001b[38;5;28;01mfor\u001b[39;00m pkt \u001b[38;5;129;01min\u001b[39;00m result]\n",
      "File \u001b[0;32m~/.local/lib/python3.10/site-packages/scapy/sendrecv.py:687\u001b[0m, in \u001b[0;36msrp\u001b[0;34m(x, promisc, iface, iface_hint, filter, nofilter, type, *args, **kargs)\u001b[0m\n\u001b[1;32m    685\u001b[0m     iface \u001b[38;5;241m=\u001b[39m conf\u001b[38;5;241m.\u001b[39mroute\u001b[38;5;241m.\u001b[39mroute(iface_hint)[\u001b[38;5;241m0\u001b[39m]\n\u001b[1;32m    686\u001b[0m iface \u001b[38;5;241m=\u001b[39m resolve_iface(iface \u001b[38;5;129;01mor\u001b[39;00m conf\u001b[38;5;241m.\u001b[39miface)\n\u001b[0;32m--> 687\u001b[0m s \u001b[38;5;241m=\u001b[39m \u001b[43miface\u001b[49m\u001b[38;5;241;43m.\u001b[39;49m\u001b[43ml2socket\u001b[49m\u001b[43m(\u001b[49m\u001b[43m)\u001b[49m\u001b[43m(\u001b[49m\u001b[43mpromisc\u001b[49m\u001b[38;5;241;43m=\u001b[39;49m\u001b[43mpromisc\u001b[49m\u001b[43m,\u001b[49m\u001b[43m \u001b[49m\u001b[43miface\u001b[49m\u001b[38;5;241;43m=\u001b[39;49m\u001b[43miface\u001b[49m\u001b[43m,\u001b[49m\n\u001b[1;32m    688\u001b[0m \u001b[43m                     \u001b[49m\u001b[38;5;28;43mfilter\u001b[39;49m\u001b[38;5;241;43m=\u001b[39;49m\u001b[38;5;28;43mfilter\u001b[39;49m\u001b[43m,\u001b[49m\u001b[43m \u001b[49m\u001b[43mnofilter\u001b[49m\u001b[38;5;241;43m=\u001b[39;49m\u001b[43mnofilter\u001b[49m\u001b[43m,\u001b[49m\u001b[43m \u001b[49m\u001b[38;5;28;43mtype\u001b[39;49m\u001b[38;5;241;43m=\u001b[39;49m\u001b[38;5;28;43mtype\u001b[39;49m\u001b[43m)\u001b[49m\n\u001b[1;32m    689\u001b[0m result \u001b[38;5;241m=\u001b[39m sndrcv(s, x, \u001b[38;5;241m*\u001b[39margs, \u001b[38;5;241m*\u001b[39m\u001b[38;5;241m*\u001b[39mkargs)\n\u001b[1;32m    690\u001b[0m s\u001b[38;5;241m.\u001b[39mclose()\n",
      "File \u001b[0;32m~/.local/lib/python3.10/site-packages/scapy/arch/linux.py:484\u001b[0m, in \u001b[0;36mL2Socket.__init__\u001b[0;34m(self, iface, type, promisc, filter, nofilter, monitor)\u001b[0m\n\u001b[1;32m    482\u001b[0m \u001b[38;5;28mself\u001b[39m\u001b[38;5;241m.\u001b[39mtype \u001b[38;5;241m=\u001b[39m \u001b[38;5;28mtype\u001b[39m\n\u001b[1;32m    483\u001b[0m \u001b[38;5;28mself\u001b[39m\u001b[38;5;241m.\u001b[39mpromisc \u001b[38;5;241m=\u001b[39m conf\u001b[38;5;241m.\u001b[39msniff_promisc \u001b[38;5;28;01mif\u001b[39;00m promisc \u001b[38;5;129;01mis\u001b[39;00m \u001b[38;5;28;01mNone\u001b[39;00m \u001b[38;5;28;01melse\u001b[39;00m promisc\n\u001b[0;32m--> 484\u001b[0m \u001b[38;5;28mself\u001b[39m\u001b[38;5;241m.\u001b[39mins \u001b[38;5;241m=\u001b[39m \u001b[43msocket\u001b[49m\u001b[38;5;241;43m.\u001b[39;49m\u001b[43msocket\u001b[49m\u001b[43m(\u001b[49m\n\u001b[1;32m    485\u001b[0m \u001b[43m    \u001b[49m\u001b[43msocket\u001b[49m\u001b[38;5;241;43m.\u001b[39;49m\u001b[43mAF_PACKET\u001b[49m\u001b[43m,\u001b[49m\u001b[43m \u001b[49m\u001b[43msocket\u001b[49m\u001b[38;5;241;43m.\u001b[39;49m\u001b[43mSOCK_RAW\u001b[49m\u001b[43m,\u001b[49m\u001b[43m \u001b[49m\u001b[43msocket\u001b[49m\u001b[38;5;241;43m.\u001b[39;49m\u001b[43mhtons\u001b[49m\u001b[43m(\u001b[49m\u001b[38;5;28;43mtype\u001b[39;49m\u001b[43m)\u001b[49m\u001b[43m)\u001b[49m\n\u001b[1;32m    486\u001b[0m \u001b[38;5;28mself\u001b[39m\u001b[38;5;241m.\u001b[39mins\u001b[38;5;241m.\u001b[39msetsockopt(socket\u001b[38;5;241m.\u001b[39mSOL_SOCKET, socket\u001b[38;5;241m.\u001b[39mSO_RCVBUF, \u001b[38;5;241m0\u001b[39m)\n\u001b[1;32m    487\u001b[0m \u001b[38;5;28;01mif\u001b[39;00m \u001b[38;5;129;01mnot\u001b[39;00m nofilter:\n",
      "File \u001b[0;32m/usr/lib/python3.10/socket.py:232\u001b[0m, in \u001b[0;36msocket.__init__\u001b[0;34m(self, family, type, proto, fileno)\u001b[0m\n\u001b[1;32m    230\u001b[0m     \u001b[38;5;28;01mif\u001b[39;00m proto \u001b[38;5;241m==\u001b[39m \u001b[38;5;241m-\u001b[39m\u001b[38;5;241m1\u001b[39m:\n\u001b[1;32m    231\u001b[0m         proto \u001b[38;5;241m=\u001b[39m \u001b[38;5;241m0\u001b[39m\n\u001b[0;32m--> 232\u001b[0m \u001b[43m_socket\u001b[49m\u001b[38;5;241;43m.\u001b[39;49m\u001b[43msocket\u001b[49m\u001b[38;5;241;43m.\u001b[39;49m\u001b[38;5;21;43m__init__\u001b[39;49m\u001b[43m(\u001b[49m\u001b[38;5;28;43mself\u001b[39;49m\u001b[43m,\u001b[49m\u001b[43m \u001b[49m\u001b[43mfamily\u001b[49m\u001b[43m,\u001b[49m\u001b[43m \u001b[49m\u001b[38;5;28;43mtype\u001b[39;49m\u001b[43m,\u001b[49m\u001b[43m \u001b[49m\u001b[43mproto\u001b[49m\u001b[43m,\u001b[49m\u001b[43m \u001b[49m\u001b[43mfileno\u001b[49m\u001b[43m)\u001b[49m\n\u001b[1;32m    233\u001b[0m \u001b[38;5;28mself\u001b[39m\u001b[38;5;241m.\u001b[39m_io_refs \u001b[38;5;241m=\u001b[39m \u001b[38;5;241m0\u001b[39m\n\u001b[1;32m    234\u001b[0m \u001b[38;5;28mself\u001b[39m\u001b[38;5;241m.\u001b[39m_closed \u001b[38;5;241m=\u001b[39m \u001b[38;5;28;01mFalse\u001b[39;00m\n",
      "\u001b[0;31mPermissionError\u001b[0m: [Errno 1] Operation not permitted"
     ]
    }
   ],
   "source": [
    "from scapy.all import ARP, Ether, srp\n",
    "\n",
    "def arp_scan(ip_range):\n",
    "    # Create ARP request packet\n",
    "    arp_request = Ether(dst=\"ff:ff:ff:ff:ff:ff\") / ARP(pdst=ip_range)\n",
    "\n",
    "    # Send the packet and receive responses\n",
    "    result = srp(arp_request, timeout=3, verbose=0)[0]\n",
    "\n",
    "    # Extract IP addresses and corresponding MAC addresses\n",
    "    devices = [{'ip_address': pkt[1].psrc, 'mac_address': pkt[1].hwsrc} for pkt in result]\n",
    "\n",
    "    return devices\n",
    "\n",
    "# Example usage: Perform an ARP scan on a specific IP range\n",
    "ip_range = \"192.168.1.1/24\"  # Replace with your network range\n",
    "devices = arp_scan(ip_range)\n",
    "\n",
    "# Display the results\n",
    "for device in devices:\n",
    "    print(f\"IP Address: {device['ip_address']}, MAC Address: {device['mac_address']}\")\n"
   ]
  },
  {
   "cell_type": "code",
   "execution_count": 15,
   "metadata": {},
   "outputs": [
    {
     "data": {
      "text/plain": [
       "('192.168.1.1', 'lotuva')"
      ]
     },
     "execution_count": 15,
     "metadata": {},
     "output_type": "execute_result"
    }
   ],
   "source": [
    "import re\n",
    "re.search(\"^@Fetava,([0-9]{1,3}\\.[0-9]{1,3}\\.[0-9]{1,3}\\.[0-9]{1,3}),(.+)$\",\"@Fetava,192.168.1.1,lotuva\").groups()"
   ]
  },
  {
   "cell_type": "code",
   "execution_count": 13,
   "metadata": {},
   "outputs": [],
   "source": [
    "import logging\n",
    "logging.info(\"asdasd\")"
   ]
  },
  {
   "cell_type": "code",
   "execution_count": 3,
   "metadata": {},
   "outputs": [
    {
     "name": "stdout",
     "output_type": "stream",
     "text": [
      "Original Data: b'Hello, World!'\n",
      "Encrypted Data: b'gAAAAABltoIMb76hy0m1bAQDbmpc87ZK4hnxwPZSmhyhdbq0s4G85ez6xSW1ApaVeO0w0Is2xws_IPD_872XL83jepWk34cbUQ=='\n",
      "Decrypted Data: b'Hello, World!'\n",
      "b'dGXkq_Q4cpWGviEhz8Sb5m-5H1YC6H5gfPqfjlC0ocU='\n"
     ]
    }
   ],
   "source": [
    "from cryptography.fernet import Fernet\n",
    "import hashlib\n",
    "\n",
    "# hashlib\n",
    "# Generate a key\n",
    "key = Fernet.generate_key()\n",
    "\n",
    "# Create a Fernet cipher object\n",
    "cipher = Fernet(key)\n",
    "\n",
    "# Encrypt and decrypt data\n",
    "data = b\"Hello, World!\"\n",
    "encrypted_data = cipher.encrypt(data)\n",
    "decrypted_data = cipher.decrypt(encrypted_data)\n",
    "\n",
    "print(\"Original Data:\", data)\n",
    "print(\"Encrypted Data:\", encrypted_data)\n",
    "print(\"Decrypted Data:\", decrypted_data)\n",
    "print (key)\n"
   ]
  },
  {
   "cell_type": "code",
   "execution_count": 9,
   "metadata": {},
   "outputs": [
    {
     "name": "stderr",
     "output_type": "stream",
     "text": [
      "/tmp/ipykernel_30722/1278375084.py:15: FutureWarning: <__main__.MyListener object at 0x7fe531bb7e80> has no update_service method. Provide one (it can be empty if you don't care about the updates), it'll become mandatory.\n",
      "  browser = ServiceBrowser(zeroconf, \"_example._tcp.local.\", listener)\n"
     ]
    }
   ],
   "source": [
    "from zeroconf import ServiceBrowser, Zeroconf\n",
    "\n",
    "class MyListener:\n",
    "    def remove_service(self, zeroconf, type, name):\n",
    "        print(f\"Service {name} removed\")\n",
    "\n",
    "    def add_service(self, zeroconf, type, name):\n",
    "        info = zeroconf.get_service_info(type, name)\n",
    "        if info:\n",
    "            print(f\"Service {name} added, IP: {info.addresses}, Port: {info.port}\")\n",
    "\n",
    "# Example usage\n",
    "zeroconf = Zeroconf()\n",
    "listener = MyListener()\n",
    "browser = ServiceBrowser(zeroconf, \"_example._tcp.local.\", listener)\n",
    "\n",
    "try:\n",
    "    input(\"Press enter to exit...\\n\")\n",
    "finally:\n",
    "    zeroconf.close()\n"
   ]
  },
  {
   "cell_type": "code",
   "execution_count": 12,
   "metadata": {},
   "outputs": [
    {
     "ename": "TypeError",
     "evalue": "'MyListener' object is not iterable",
     "output_type": "error",
     "traceback": [
      "\u001b[0;31m---------------------------------------------------------------------------\u001b[0m",
      "\u001b[0;31mTypeError\u001b[0m                                 Traceback (most recent call last)",
      "Cell \u001b[0;32mIn[12], line 1\u001b[0m\n\u001b[0;32m----> 1\u001b[0m \u001b[38;5;28;43mlist\u001b[39;49m\u001b[43m(\u001b[49m\u001b[43mlistener\u001b[49m\u001b[43m)\u001b[49m\n",
      "\u001b[0;31mTypeError\u001b[0m: 'MyListener' object is not iterable"
     ]
    }
   ],
   "source": [
    "list(listener)\n"
   ]
  },
  {
   "cell_type": "code",
   "execution_count": 7,
   "metadata": {},
   "outputs": [
    {
     "ename": "ModuleNotFoundError",
     "evalue": "No module named 'netfilterqueue'",
     "output_type": "error",
     "traceback": [
      "\u001b[0;31m---------------------------------------------------------------------------\u001b[0m",
      "\u001b[0;31mModuleNotFoundError\u001b[0m                       Traceback (most recent call last)",
      "Cell \u001b[0;32mIn[7], line 1\u001b[0m\n\u001b[0;32m----> 1\u001b[0m \u001b[38;5;28;01mimport\u001b[39;00m \u001b[38;5;21;01mnetfilterqueue\u001b[39;00m\n\u001b[1;32m      2\u001b[0m \u001b[38;5;28;01mfrom\u001b[39;00m \u001b[38;5;21;01mscapy\u001b[39;00m\u001b[38;5;21;01m.\u001b[39;00m\u001b[38;5;21;01mall\u001b[39;00m \u001b[38;5;28;01mimport\u001b[39;00m IP, UDP, ICMPv6ND_NS, ND_OPT_SOURCE_LL_ADDR\n\u001b[1;32m      4\u001b[0m \u001b[38;5;66;03m# Define the NDP request packet\u001b[39;00m\n",
      "\u001b[0;31mModuleNotFoundError\u001b[0m: No module named 'netfilterqueue'"
     ]
    }
   ],
   "source": [
    "import netfilterqueue\n",
    "from scapy.all import IP, UDP, ICMPv6ND_NS, ND_OPT_SOURCE_LL_ADDR\n",
    "\n",
    "# Define the NDP request packet\n",
    "ndp_request = IP(dst=\"224.0.0.22\") / UDP() / ICMPv6ND_NS()\n",
    "\n",
    "# Append the source MAC address\n",
    "ndp_request.options = [\n",
    "    ND_OPT_SOURCE_LL_ADDR(data=get_mac_address()),\n",
    "]\n",
    "\n",
    "# Create a netfilter queue object\n",
    "queue = netfilterqueue.NetfilterQueue()\n",
    "\n",
    "# Bind the queue to the FORWARD hook\n",
    "queue.bind(hook=netfilterqueue.NF_INET_FORWARD)\n",
    "\n",
    "# Define the function to handle incoming packets\n",
    "def process_packet(packet):\n",
    "    # Check if the packet is an NDP advertisement\n",
    "    if not packet.get_protocol(ICMPv6ND_NS):\n",
    "        return\n",
    "\n",
    "    # Extract the source IP address\n",
    "    source_ip = packet.get_field(IP).src\n",
    "\n",
    "    # Print the source IP address\n",
    "    print(\"Found connected device:\", source_ip)\n",
    "\n",
    "# Start processing packets in the queue\n",
    "queue.run()\n"
   ]
  },
  {
   "cell_type": "code",
   "execution_count": 2,
   "metadata": {},
   "outputs": [
    {
     "data": {
      "text/plain": [
       "'Lotuva'"
      ]
     },
     "execution_count": 2,
     "metadata": {},
     "output_type": "execute_result"
    }
   ],
   "source": [
    "import socket\n",
    "socket.gethostname()\n",
    "import platform\n",
    "platform.node()\n",
    "socket.gethostbyaddr()"
   ]
  },
  {
   "cell_type": "code",
   "execution_count": 62,
   "metadata": {},
   "outputs": [
    {
     "name": "stdout",
     "output_type": "stream",
     "text": [
      "[11]\n"
     ]
    },
    {
     "name": "stdout",
     "output_type": "stream",
     "text": [
      "[11, 50]\n"
     ]
    }
   ],
   "source": [
    "def fo():\n",
    "    import time\n",
    "    time.sleep(2)\n",
    "    x.p.append(50)\n",
    "    print(y.p)\n",
    "threading.Thread(target=fo).start()\n",
    "x.p.append(11)\n",
    "print(y.p)\n"
   ]
  },
  {
   "cell_type": "code",
   "execution_count": null,
   "metadata": {},
   "outputs": [],
   "source": [
    "import socket\n",
    "\n",
    "client = socket.socket(socket.AF_INET, socket.SOCK_DGRAM, socket.IPPROTO_UDP) # UDP\n",
    "\n",
    "# Enable port reusage so we will be able to run multiple clients and servers on single (host, port). \n",
    "# Do not use socket.SO_REUSEADDR except you using linux(kernel<3.9): goto https://stackoverflow.com/questions/14388706/how-do-so-reuseaddr-and-so-reuseport-differ for more information.\n",
    "# For linux hosts all sockets that want to share the same address and port combination must belong to processes that share the same effective user ID!\n",
    "# So, on linux(kernel>=3.9) you have to run multiple servers and clients under one user to share the same (host, port).\n",
    "# Thanks to @stevenreddie\n",
    "client.setsockopt(socket.SOL_SOCKET, socket.SO_REUSEPORT, 1)\n",
    "\n",
    "# Enable broadcasting mode\n",
    "client.setsockopt(socket.SOL_SOCKET, socket.SO_BROADCAST, 1)\n",
    "\n",
    "client.bind((\"\", 37020))\n",
    "while True:\n",
    "    # Thanks @seym45 for a fix\n",
    "    data, addr = client.recvfrom(1024)\n",
    "    print(\"received message: %s\"%data)\n",
    "    print(addr)"
   ]
  }
 ],
 "metadata": {
  "kernelspec": {
   "display_name": "Python 3",
   "language": "python",
   "name": "python3"
  },
  "language_info": {
   "codemirror_mode": {
    "name": "ipython",
    "version": 3
   },
   "file_extension": ".py",
   "mimetype": "text/x-python",
   "name": "python",
   "nbconvert_exporter": "python",
   "pygments_lexer": "ipython3",
   "version": "3.10.12"
  }
 },
 "nbformat": 4,
 "nbformat_minor": 2
}
