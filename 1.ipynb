{
 "cells": [
  {
   "cell_type": "code",
   "execution_count": 11,
   "metadata": {},
   "outputs": [
    {
     "name": "stdout",
     "output_type": "stream",
     "text": [
      "0.02640878688633308\n",
      "0.03412305292829663\n",
      "0.03988130719839199\n",
      "0.0113477481490462\n",
      "0.03985397848380859\n",
      "0.017937408112412203\n",
      "0.032366649274348396\n",
      "0.03985468720011331\n",
      "0.03900559251264856\n",
      "0.03565678953756488\n"
     ]
    }
   ],
   "source": []
  },
  {
   "cell_type": "markdown",
   "metadata": {},
   "source": [
    "## UDP"
   ]
  },
  {
   "cell_type": "markdown",
   "metadata": {},
   "source": [
    "#### Picture     \n",
    "<!-- #### Picture -->\n",
    "\n",
    "![UDP](./UDP.png)     \n",
    "----------\n",
    "As you can see above, there is a phenomenal data in our picture and thats how we can go through the deep side of the header and realise the checksum,port numbers, data and etc."
   ]
  },
  {
   "cell_type": "markdown",
   "metadata": {},
   "source": [
    "#### Server"
   ]
  },
  {
   "cell_type": "code",
   "execution_count": 2,
   "metadata": {},
   "outputs": [
    {
     "name": "stdout",
     "output_type": "stream",
     "text": [
      "Socket successfully created\n",
      "socket binded to 12345\n",
      "socket is listening\n"
     ]
    },
    {
     "ename": "KeyboardInterrupt",
     "evalue": "",
     "output_type": "error",
     "traceback": [
      "\u001b[0;31m---------------------------------------------------------------------------\u001b[0m",
      "\u001b[0;31mKeyboardInterrupt\u001b[0m                         Traceback (most recent call last)",
      "Cell \u001b[0;32mIn[2], line 43\u001b[0m\n\u001b[1;32m     34\u001b[0m \u001b[38;5;66;03m# c, addr = s.accept()\u001b[39;00m\n\u001b[1;32m     35\u001b[0m \u001b[38;5;28;01mwhile\u001b[39;00m \u001b[38;5;28;01mTrue\u001b[39;00m: \n\u001b[1;32m     36\u001b[0m     \u001b[38;5;66;03m# Establish connection with client. \u001b[39;00m\n\u001b[1;32m     37\u001b[0m     \u001b[38;5;66;03m# if(not c):\u001b[39;00m\n\u001b[0;32m   (...)\u001b[0m\n\u001b[1;32m     41\u001b[0m     \u001b[38;5;66;03m# send a thank you message to the client. encoding to send byte type. \u001b[39;00m\n\u001b[1;32m     42\u001b[0m     \u001b[38;5;66;03m# c.send('Thank you for connecting'.encode()) \u001b[39;00m\n\u001b[0;32m---> 43\u001b[0m     d\u001b[38;5;241m=\u001b[39m\u001b[43ms\u001b[49m\u001b[38;5;241;43m.\u001b[39;49m\u001b[43mrecv\u001b[49m\u001b[43m(\u001b[49m\u001b[38;5;241;43m1024\u001b[39;49m\u001b[43m)\u001b[49m\u001b[38;5;241m.\u001b[39mdecode()\n\u001b[1;32m     44\u001b[0m     \u001b[38;5;28mprint\u001b[39m(d)\n\u001b[1;32m     45\u001b[0m     \u001b[38;5;28;01mif\u001b[39;00m(\u001b[38;5;124m\"\u001b[39m\u001b[38;5;124mexit\u001b[39m\u001b[38;5;124m\"\u001b[39m \u001b[38;5;129;01min\u001b[39;00m d):\n",
      "\u001b[0;31mKeyboardInterrupt\u001b[0m: "
     ]
    }
   ],
   "source": [
    "# first of all import the socket library \n",
    "import socket\t\t\t \n",
    "\n",
    "# next create a socket object \n",
    "s = socket.socket(family=socket.AF_INET, type=socket.SOCK_DGRAM)\n",
    "print (\"Socket successfully created\")\n",
    "\n",
    "# reserve a port on your computer in our \n",
    "# case it is 12345 but it can be anything \n",
    "port = 12345\t\t\t\n",
    "from plyer import notification\n",
    "# Next bind to the port \n",
    "# we have not typed any ip in the ip field \n",
    "# instead we have inputted an empty string \n",
    "# this makes the server listen to requests \n",
    "# coming from other computers on the network \n",
    "s.bind(('', port))\t\t \n",
    "print (\"socket binded to %s\" %(port)) \n",
    "\n",
    "# put the socket into listening mode \n",
    "# s.listen(5)\t \n",
    "print (\"socket is listening\")\t\t \n",
    "\n",
    "# a forever loop until we interrupt it or \n",
    "# an error occurs \n",
    "def notifyMe(title, message):\n",
    "    notification.notify(\n",
    "        title = title,\n",
    "        message = message,\n",
    "        # app_icon = \"C:\\\\Users\\\\uday_\\\\Downloads\\\\Ampeross-Qetto-2-Timer.ico\", #http://www.iconarchive.com/show/qetto-2-icons-by-ampeross/timer-icon.html\n",
    "        timeout = 1,\n",
    "    )\n",
    "\n",
    "# c, addr = s.accept()\n",
    "while True: \n",
    "    # Establish connection with client. \n",
    "    # if(not c):\n",
    "    #     break\n",
    "    # print ('Got connection from', addr )\n",
    "    # print(c)\n",
    "    # send a thank you message to the client. encoding to send byte type. \n",
    "    # c.send('Thank you for connecting'.encode()) \n",
    "    d=s.recv(1024).decode()\n",
    "    print(d)\n",
    "    if(\"exit\" in d):\n",
    "        break\n",
    "    notifyMe(\"Server\",d)\n",
    "    # c.send(\"asdas\")\n",
    "    # Close the connection with the client \n",
    "    # c.close()\n",
    "\n",
    "    # Breaking once connection closed\n",
    "    # break\n",
    "        "
   ]
  },
  {
   "cell_type": "markdown",
   "metadata": {},
   "source": [
    "#### Client"
   ]
  },
  {
   "cell_type": "code",
   "execution_count": null,
   "metadata": {},
   "outputs": [
    {
     "ename": "ConnectionRefusedError",
     "evalue": "[Errno 111] Connection refused",
     "output_type": "error",
     "traceback": [
      "\u001b[0;31m---------------------------------------------------------------------------\u001b[0m",
      "\u001b[0;31mConnectionRefusedError\u001b[0m                    Traceback (most recent call last)",
      "Cell \u001b[0;32mIn[3], line 20\u001b[0m\n\u001b[1;32m     14\u001b[0m \u001b[38;5;66;03m# s.connect(())\u001b[39;00m\n\u001b[1;32m     15\u001b[0m \u001b[38;5;66;03m# receive data from the server and decoding to get the string.\u001b[39;00m\n\u001b[1;32m     16\u001b[0m \u001b[38;5;66;03m# s.recv()\u001b[39;00m\n\u001b[1;32m     17\u001b[0m \u001b[38;5;28;01mwhile\u001b[39;00m(\u001b[38;5;28;01mTrue\u001b[39;00m):\n\u001b[1;32m     18\u001b[0m     \u001b[38;5;66;03m# print (s.recv(1024).decode())\u001b[39;00m\n\u001b[1;32m     19\u001b[0m     \u001b[38;5;66;03m# d=input()\u001b[39;00m\n\u001b[0;32m---> 20\u001b[0m     \u001b[43ms\u001b[49m\u001b[38;5;241;43m.\u001b[39;49m\u001b[43msend\u001b[49m\u001b[43m(\u001b[49m\u001b[43md\u001b[49m\u001b[38;5;241;43m.\u001b[39;49m\u001b[43mencode\u001b[49m\u001b[43m(\u001b[49m\u001b[43m)\u001b[49m\u001b[43m)\u001b[49m\n\u001b[1;32m     21\u001b[0m     \u001b[38;5;28;01mif\u001b[39;00m(\u001b[38;5;124m\"\u001b[39m\u001b[38;5;124mexit\u001b[39m\u001b[38;5;124m\"\u001b[39m \u001b[38;5;129;01min\u001b[39;00m d):\n\u001b[1;32m     22\u001b[0m         \u001b[38;5;28;01mbreak\u001b[39;00m\n",
      "\u001b[0;31mConnectionRefusedError\u001b[0m: [Errno 111] Connection refused"
     ]
    }
   ],
   "source": [
    "# Import socket module \n",
    "import socket\t\t\t \n",
    "\n",
    "# Create a socket object \n",
    "s = socket.socket(family=socket.AF_INET, type=socket.SOCK_DGRAM)\n",
    "\n",
    "# s=socket.socket(socket.AF_INET, socket.SOCK_DGRAM)\n",
    "\n",
    "# Define the port on which you want to connect \n",
    "port = 12345\t\t\t\n",
    "\n",
    "# connect to the server on local computer \n",
    "s.connect(('127.0.0.1', port)) \n",
    "# s.connect(())\n",
    "# receive data from the server and decoding to get the string.\n",
    "# s.recv()\n",
    "while(True):\n",
    "    # print (s.recv(1024).decode())\n",
    "    # d=input()\n",
    "    s.send(d.encode())\n",
    "    if(\"exit\" in d):\n",
    "        break\n",
    "# close the connection \n",
    "s.close()\t \n",
    "\t\n"
   ]
  },
  {
   "cell_type": "markdown",
   "metadata": {},
   "source": [
    "## TCP"
   ]
  },
  {
   "cell_type": "markdown",
   "metadata": {},
   "source": [
    "![TCP](./TCP.png)"
   ]
  },
  {
   "cell_type": "markdown",
   "metadata": {},
   "source": [
    "from the picture that came above, we can realize the source IP and destination IP and also their relative port numbers.     \n",
    "I can also provides you the corresponding data of that packet. I can also brought you other relative parts like ACK number or even sequence number as you can see above.    \n",
    "I can also say there was some parts which can sensationally parse those priceless parts relative to flags and other options as you can see below.      \n",
    "![tcp-2](./TCP1.png)"
   ]
  },
  {
   "cell_type": "markdown",
   "metadata": {},
   "source": [
    "we can see the window size ,checksum, ip and port of source and dest,flags,seq # and ack #     \n",
    "Options    \n",
    "Urgent pointer could also be clarified     \n",
    "and finally flags:\n",
    "A\n",
    "R\n",
    "S ..."
   ]
  },
  {
   "cell_type": "markdown",
   "metadata": {},
   "source": [
    "#### Server"
   ]
  },
  {
   "cell_type": "code",
   "execution_count": null,
   "metadata": {},
   "outputs": [],
   "source": [
    "# first of all import the socket library \n",
    "import socket\t\t\t \n",
    "\n",
    "# next create a socket object \n",
    "s = socket.socket(socket.AF_INET, socket.SOCK_STREAM)\n",
    "print (\"Socket successfully created\")\n",
    "\n",
    "# reserve a port on your computer in our \n",
    "# case it is 12345 but it can be anything \n",
    "port = 12345\t\t\t\n",
    "from plyer import notification\n",
    "# Next bind to the port \n",
    "# we have not typed any ip in the ip field \n",
    "# instead we have inputted an empty string \n",
    "# this makes the server listen to requests \n",
    "# coming from other computers on the network \n",
    "s.bind(('', port))\t\t \n",
    "print (\"socket binded to %s\" %(port)) \n",
    "\n",
    "# put the socket into listening mode \n",
    "s.listen(5)\t \n",
    "print (\"socket is listening\")\t\t \n",
    "\n",
    "# a forever loop until we interrupt it or \n",
    "# an error occurs \n",
    "def notifyMe(title, message):\n",
    "    notification.notify(\n",
    "        title = title,\n",
    "        message = message,\n",
    "        # app_icon = \"C:\\\\Users\\\\uday_\\\\Downloads\\\\Ampeross-Qetto-2-Timer.ico\", #http://www.iconarchive.com/show/qetto-2-icons-by-ampeross/timer-icon.html\n",
    "        timeout = 1,\n",
    "    )\n",
    "\n",
    "c, addr = s.accept()\n",
    "while True: \n",
    "    # Establish connection with client. \n",
    "    # if(not c):\n",
    "    #     break\n",
    "    # print ('Got connection from', addr )\n",
    "    # print(c)\n",
    "    # send a thank you message to the client. encoding to send byte type. \n",
    "    # c.send('Thank you for connecting'.encode()) \n",
    "    d=c.recv(1024).decode()\n",
    "    print(d)\n",
    "    if(\"exit\" in d):\n",
    "        break\n",
    "    notifyMe(\"Server\",d)\n",
    "    # c.send(\"asdas\")\n",
    "    # Close the connection with the client \n",
    "    # c.close()\n",
    "\n",
    "    # Breaking once connection closed\n",
    "    # break\n",
    "        "
   ]
  },
  {
   "cell_type": "markdown",
   "metadata": {},
   "source": [
    "#### Client"
   ]
  },
  {
   "cell_type": "code",
   "execution_count": null,
   "metadata": {},
   "outputs": [],
   "source": [
    "# Import socket module \n",
    "import socket\t\t\t \n",
    "\n",
    "# Create a socket object \n",
    "s = socket.socket(socket.AF_INET, socket.SOCK_STREAM)\t \n",
    "\n",
    "# Define the port on which you want to connect \n",
    "port = 12345\t\t\t\n",
    "\n",
    "# connect to the server on local computer \n",
    "s.connect(('127.0.0.1', port)) \n",
    "# s.connect(())\n",
    "# receive data from the server and decoding to get the string.\n",
    "# s.recv()\n",
    "while(True):\n",
    "    # print (s.recv(1024).decode())\n",
    "    d=input()\n",
    "    s.send(d.encode())\n",
    "    if(\"exit\" in d):\n",
    "        break\n",
    "# close the connection \n",
    "s.close()\t \n",
    "\t\n"
   ]
  },
  {
   "cell_type": "code",
   "execution_count": null,
   "metadata": {},
   "outputs": [],
   "source": []
  },
  {
   "cell_type": "markdown",
   "metadata": {},
   "source": [
    "## DNS - Query"
   ]
  },
  {
   "cell_type": "code",
   "execution_count": 1,
   "metadata": {},
   "outputs": [
    {
     "name": "stdout",
     "output_type": "stream",
     "text": [
      "The domain name for yahoo.com is 74.6.143.26\n"
     ]
    }
   ],
   "source": [
    "import socket\n",
    "\n",
    "def get_domain_name(name):\n",
    "    try:\n",
    "        # hostname = socket.gethostbyaddr(ip_address)[0]\n",
    "        return socket.gethostbyname(name)\n",
    "        return hostname\n",
    "    except socket.herror:\n",
    "        return \"No domain name found\"\n",
    "\n",
    "ip_address = \"yahoo.com\" # Google DNS server\n",
    "domain_name = get_domain_name(ip_address)\n",
    "print(f\"The domain name for {ip_address} is {domain_name}\")"
   ]
  },
  {
   "cell_type": "code",
   "execution_count": null,
   "metadata": {},
   "outputs": [],
   "source": [
    "from dataclasses import dataclass\n",
    "import dataclasses\n",
    "import struct\n",
    "import socket\n",
    "import random\n",
    "@dataclass\n",
    "class DNSHeader:\n",
    "    id: int\n",
    "    flags: int\n",
    "    num_questions: int = 0\n",
    "    num_answers: int = 0\n",
    "    num_authorities: int = 0\n",
    "    num_additionals: int = 0\n",
    "@dataclass\n",
    "class DNSHeader:\n",
    "    id: int\n",
    "    flags: int\n",
    "    num_questions: int = 0\n",
    "    num_answers: int = 0\n",
    "    num_authorities: int = 0\n",
    "    num_additionals: int = 0\n",
    "@dataclass\n",
    "class DNSQuestion:\n",
    "    name: bytes\n",
    "    type_: int \n",
    "    class_: int \n",
    "def header_to_bytes(header):\n",
    "    fields = dataclasses.astuple(header)\n",
    "    # there are 6 `H`s because there are 6 fields\n",
    "    return struct.pack(\"!HHHHHH\", *fields)\n",
    "\n",
    "def question_to_bytes(question):\n",
    "    return question.name + struct.pack(\"!HH\", question.type_, question.class_)\n",
    "\n",
    "def encode_dns_name(domain_name):\n",
    "    encoded = b\"\"\n",
    "    for part in domain_name.encode(\"ascii\").split(b\".\"):\n",
    "        encoded += bytes([len(part)]) + part\n",
    "    return encoded + b\"\\x00\"\n",
    "random.seed(1)\n",
    "TYPE_A = 1\n",
    "CLASS_IN = 1\n",
    "def build_query(domain_name, record_type):\n",
    "    name = encode_dns_name(domain_name)\n",
    "    id = random.randint(0, 65535)\n",
    "    RECURSION_DESIRED = 1 << 8\n",
    "    header = DNSHeader(id=id, num_questions=1, flags=RECURSION_DESIRED)\n",
    "    question = DNSQuestion(name=name, type_=record_type, class_=CLASS_IN)\n",
    "    return header_to_bytes(header) + question_to_bytes(question)\n",
    "query = build_query(\"www.google.com\", 1)\n",
    "sock = socket.socket(socket.AF_INET, socket.SOCK_DGRAM)\n",
    "sock.sendto(query, (\"8.8.8.8\", 53))\n",
    "response, _ = sock.recvfrom(1024)\n",
    "o=0\n",
    "add=\".\".join([str(x) for x in response[-4:]])\n",
    "print(add)"
   ]
  }
 ],
 "metadata": {
  "kernelspec": {
   "display_name": "qenv",
   "language": "python",
   "name": "python3"
  },
  "language_info": {
   "codemirror_mode": {
    "name": "ipython",
    "version": 3
   },
   "file_extension": ".py",
   "mimetype": "text/x-python",
   "name": "python",
   "nbconvert_exporter": "python",
   "pygments_lexer": "ipython3",
   "version": "3.10.12"
  }
 },
 "nbformat": 4,
 "nbformat_minor": 2
}
